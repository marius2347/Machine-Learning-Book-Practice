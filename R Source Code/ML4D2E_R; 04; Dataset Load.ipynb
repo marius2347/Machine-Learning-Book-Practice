{
 "cells": [
  {
   "cell_type": "markdown",
   "metadata": {},
   "source": [
    "# Downloading the Datasets and Example Code"
   ]
  },
  {
   "cell_type": "markdown",
   "metadata": {},
   "source": [
    "## Understanding the datasets used in this book"
   ]
  },
  {
   "cell_type": "code",
   "execution_count": 1,
   "metadata": {},
   "outputs": [
    {
     "name": "stderr",
     "output_type": "stream",
     "text": [
      "Loading required package: feather\n",
      "\n"
     ]
    }
   ],
   "source": [
    "if (!require(\"feather\")) install.packages(\"feather\")\n",
    "library(feather)"
   ]
  },
  {
   "cell_type": "code",
   "execution_count": 2,
   "metadata": {},
   "outputs": [
    {
     "name": "stderr",
     "output_type": "stream",
     "text": [
      "Warning message:\n",
      "\"Coercing int64 to double\"\n"
     ]
    },
    {
     "name": "stdout",
     "output_type": "stream",
     "text": [
      "\u001b[90m# A tibble: 144 x 2\u001b[39m\n",
      "   Month   Passengers\n",
      "   \u001b[3m\u001b[90m<chr>\u001b[39m\u001b[23m        \u001b[3m\u001b[90m<dbl>\u001b[39m\u001b[23m\n",
      "\u001b[90m 1\u001b[39m 1949-01        112\n",
      "\u001b[90m 2\u001b[39m 1949-02        118\n",
      "\u001b[90m 3\u001b[39m 1949-03        132\n",
      "\u001b[90m 4\u001b[39m 1949-04        129\n",
      "\u001b[90m 5\u001b[39m 1949-05        121\n",
      "\u001b[90m 6\u001b[39m 1949-06        135\n",
      "\u001b[90m 7\u001b[39m 1949-07        148\n",
      "\u001b[90m 8\u001b[39m 1949-08        148\n",
      "\u001b[90m 9\u001b[39m 1949-09        136\n",
      "\u001b[90m10\u001b[39m 1949-10        119\n",
      "\u001b[90m# ... with 134 more rows\u001b[39m\n"
     ]
    }
   ],
   "source": [
    "read_df <- read_feather('air_passengers.feather')\n",
    "print(read_df)"
   ]
  },
  {
   "cell_type": "code",
   "execution_count": null,
   "metadata": {},
   "outputs": [],
   "source": []
  }
 ],
 "metadata": {
  "kernelspec": {
   "display_name": "R",
   "language": "R",
   "name": "ir"
  },
  "language_info": {
   "codemirror_mode": "r",
   "file_extension": ".r",
   "mimetype": "text/x-r-source",
   "name": "R",
   "pygments_lexer": "r",
   "version": "4.0.3"
  }
 },
 "nbformat": 4,
 "nbformat_minor": 4
}
