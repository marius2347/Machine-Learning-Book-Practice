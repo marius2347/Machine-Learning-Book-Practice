{
 "cells": [
  {
   "cell_type": "code",
   "execution_count": 1,
   "metadata": {},
   "outputs": [
    {
     "name": "stdout",
     "output_type": "stream",
     "text": [
      "Python Version:\n",
      " 3.8.3 (default, Jul  2 2020, 17:30:36) [MSC v.1916 64 bit (AMD64)]\n",
      "\n",
      "Anaconda Version:\n",
      " # packages in environment at C:\\Users\\John\\anaconda3:\n",
      "#\n",
      "# Name                    Version                   Build  Channel\n",
      "anaconda                  2020.07                  py38_0  \n",
      "\n"
     ]
    }
   ],
   "source": [
    "import sys\n",
    "print('Python Version:\\n', sys.version)\n",
    "\n",
    "import os\n",
    "result = os.popen('conda list anaconda$').read()\n",
    "print('\\nAnaconda Version:\\n', result)"
   ]
  },
  {
   "cell_type": "code",
   "execution_count": null,
   "metadata": {},
   "outputs": [],
   "source": []
  }
 ],
 "metadata": {
  "kernelspec": {
   "display_name": "Python 3",
   "language": "python",
   "name": "python3"
  },
  "language_info": {
   "codemirror_mode": {
    "name": "ipython",
    "version": 3
   },
   "file_extension": ".py",
   "mimetype": "text/x-python",
   "name": "python",
   "nbconvert_exporter": "python",
   "pygments_lexer": "ipython3",
   "version": "3.8.3"
  }
 },
 "nbformat": 4,
 "nbformat_minor": 4
}
