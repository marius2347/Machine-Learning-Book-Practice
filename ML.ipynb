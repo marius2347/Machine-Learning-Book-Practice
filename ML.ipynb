{
 "cells": [
  {
   "cell_type": "markdown",
   "metadata": {},
   "source": [
    "<span style=\"font-size: 45px\"> Machine Learning </span> <span style=\"font-size: 25px; color: yellow\"> for Dummies</span>"
   ]
  },
  {
   "cell_type": "markdown",
   "metadata": {},
   "source": [
    "<span style=\"font-size: 30px\"> Part 2: </span> <span style=\"font-size: 30px; color: green\"> Preparing Your Learning Tools</span>"
   ]
  },
  {
   "cell_type": "markdown",
   "metadata": {},
   "source": [
    "<span style=\"font-size: 20px\"> Chapter 4: </span> <span style=\"font-size: 20px; color: skyblue\"> Installing a Python Distribution </span>"
   ]
  },
  {
   "cell_type": "code",
   "execution_count": 187,
   "metadata": {},
   "outputs": [
    {
     "name": "stdout",
     "output_type": "stream",
     "text": [
      "       Month  Passengers\n",
      "0    1949-01         112\n",
      "1    1949-02         118\n",
      "2    1949-03         132\n",
      "3    1949-04         129\n",
      "4    1949-05         121\n",
      "..       ...         ...\n",
      "139  1960-08         606\n",
      "140  1960-09         508\n",
      "141  1960-10         461\n",
      "142  1960-11         390\n",
      "143  1960-12         432\n",
      "\n",
      "[144 rows x 2 columns]\n"
     ]
    }
   ],
   "source": [
    "# libraries\n",
    "import pyarrow.feather as feather # read from file\n",
    "\n",
    "# read from file\n",
    "read_df = feather.read_feather('./datasets-master/air_passengers.feather')\n",
    "\n",
    "# print it\n",
    "print(read_df)"
   ]
  },
  {
   "cell_type": "code",
   "execution_count": 188,
   "metadata": {},
   "outputs": [
    {
     "data": {
      "text/html": [
       "<div>\n",
       "<style scoped>\n",
       "    .dataframe tbody tr th:only-of-type {\n",
       "        vertical-align: middle;\n",
       "    }\n",
       "\n",
       "    .dataframe tbody tr th {\n",
       "        vertical-align: top;\n",
       "    }\n",
       "\n",
       "    .dataframe thead th {\n",
       "        text-align: right;\n",
       "    }\n",
       "</style>\n",
       "<table border=\"1\" class=\"dataframe\">\n",
       "  <thead>\n",
       "    <tr style=\"text-align: right;\">\n",
       "      <th></th>\n",
       "      <th>Month</th>\n",
       "      <th>Passengers</th>\n",
       "    </tr>\n",
       "  </thead>\n",
       "  <tbody>\n",
       "    <tr>\n",
       "      <th>0</th>\n",
       "      <td>1949-01</td>\n",
       "      <td>112</td>\n",
       "    </tr>\n",
       "    <tr>\n",
       "      <th>1</th>\n",
       "      <td>1949-02</td>\n",
       "      <td>118</td>\n",
       "    </tr>\n",
       "    <tr>\n",
       "      <th>2</th>\n",
       "      <td>1949-03</td>\n",
       "      <td>132</td>\n",
       "    </tr>\n",
       "    <tr>\n",
       "      <th>3</th>\n",
       "      <td>1949-04</td>\n",
       "      <td>129</td>\n",
       "    </tr>\n",
       "    <tr>\n",
       "      <th>4</th>\n",
       "      <td>1949-05</td>\n",
       "      <td>121</td>\n",
       "    </tr>\n",
       "    <tr>\n",
       "      <th>...</th>\n",
       "      <td>...</td>\n",
       "      <td>...</td>\n",
       "    </tr>\n",
       "    <tr>\n",
       "      <th>139</th>\n",
       "      <td>1960-08</td>\n",
       "      <td>606</td>\n",
       "    </tr>\n",
       "    <tr>\n",
       "      <th>140</th>\n",
       "      <td>1960-09</td>\n",
       "      <td>508</td>\n",
       "    </tr>\n",
       "    <tr>\n",
       "      <th>141</th>\n",
       "      <td>1960-10</td>\n",
       "      <td>461</td>\n",
       "    </tr>\n",
       "    <tr>\n",
       "      <th>142</th>\n",
       "      <td>1960-11</td>\n",
       "      <td>390</td>\n",
       "    </tr>\n",
       "    <tr>\n",
       "      <th>143</th>\n",
       "      <td>1960-12</td>\n",
       "      <td>432</td>\n",
       "    </tr>\n",
       "  </tbody>\n",
       "</table>\n",
       "<p>144 rows × 2 columns</p>\n",
       "</div>"
      ],
      "text/plain": [
       "       Month  Passengers\n",
       "0    1949-01         112\n",
       "1    1949-02         118\n",
       "2    1949-03         132\n",
       "3    1949-04         129\n",
       "4    1949-05         121\n",
       "..       ...         ...\n",
       "139  1960-08         606\n",
       "140  1960-09         508\n",
       "141  1960-10         461\n",
       "142  1960-11         390\n",
       "143  1960-12         432\n",
       "\n",
       "[144 rows x 2 columns]"
      ]
     },
     "execution_count": 188,
     "metadata": {},
     "output_type": "execute_result"
    }
   ],
   "source": [
    "# show DataFrame\n",
    "read_df"
   ]
  },
  {
   "cell_type": "markdown",
   "metadata": {},
   "source": [
    "<span style=\"font-size: 20px\"> Chapter 5: </span> <span style=\"font-size: 20px; color: skyblue\"> Beyond Basic Coding in Python </span>"
   ]
  },
  {
   "cell_type": "code",
   "execution_count": 189,
   "metadata": {},
   "outputs": [
    {
     "data": {
      "text/plain": [
       "'Hello There!'"
      ]
     },
     "execution_count": 189,
     "metadata": {},
     "output_type": "execute_result"
    }
   ],
   "source": [
    "# WORKING WITH FUNCTIONS - CREATING REUSABLE FUNCTION\n",
    "\n",
    "\n",
    "# defining a function\n",
    "def sayHello():\n",
    "    return \"Hello There!\"\n",
    "\n",
    "# CALLING FUNCTIONS\n",
    "sayHello()"
   ]
  },
  {
   "cell_type": "code",
   "execution_count": 190,
   "metadata": {},
   "outputs": [
    {
     "data": {
      "text/plain": [
       "3"
      ]
     },
     "execution_count": 190,
     "metadata": {},
     "output_type": "execute_result"
    }
   ],
   "source": [
    "# DEFINING A FUNCTION WITH PARAMETERS\n",
    "\n",
    "def DoSum(Value1, Value2):\n",
    "    return Value1 + Value2\n",
    "\n",
    "# calling the fuction with integers\n",
    "DoSum(1, 2)"
   ]
  },
  {
   "cell_type": "code",
   "execution_count": 191,
   "metadata": {},
   "outputs": [
    {
     "name": "stdout",
     "output_type": "stream",
     "text": [
      "2 + 3 = 5\n"
     ]
    }
   ],
   "source": [
    "# DEFINING FUCTION WITH PARAMETERS AND CALLING IT WITH KEYWORDS (SEDING ARGUMENTS BY KEYWORD)\n",
    "\n",
    "def DisplaySum(Value1, Value2):\n",
    "    print(str(Value1) + ' + ' + str(Value2) + ' = ' + str((Value1 + Value2)))\n",
    "\n",
    "# first testing it with positional arguments\n",
    "DisplaySum(2, 3)"
   ]
  },
  {
   "cell_type": "code",
   "execution_count": 192,
   "metadata": {},
   "outputs": [
    {
     "name": "stdout",
     "output_type": "stream",
     "text": [
      "2 + 3 = 5\n"
     ]
    }
   ],
   "source": [
    "# now with keywords\n",
    "DisplaySum(Value2 = 3, Value1= 2)"
   ]
  },
  {
   "cell_type": "code",
   "execution_count": 193,
   "metadata": {},
   "outputs": [
    {
     "name": "stdout",
     "output_type": "stream",
     "text": [
      "No Value Supplied\n"
     ]
    }
   ],
   "source": [
    "# GIVING FUNCTION ARGUMENTS A DEFAULT VALUE\n",
    "\n",
    "def SayHello(Greeting = \"No Value Supplied\"):\n",
    "    print(Greeting)\n",
    "\n",
    "# calling the function without a value\n",
    "SayHello()"
   ]
  },
  {
   "cell_type": "code",
   "execution_count": 194,
   "metadata": {},
   "outputs": [
    {
     "name": "stdout",
     "output_type": "stream",
     "text": [
      "Howdy!\n"
     ]
    }
   ],
   "source": [
    "# calling the fuction with a value\n",
    "SayHello(\"Howdy!\")"
   ]
  },
  {
   "cell_type": "code",
   "execution_count": 195,
   "metadata": {},
   "outputs": [
    {
     "name": "stdout",
     "output_type": "stream",
     "text": [
      "You passed 0 arguments. ()\n"
     ]
    }
   ],
   "source": [
    "# CREATING FUNCTIONS WITH A VARIABLE NUMBER OF ARGUMENTS\n",
    "\n",
    "def DisplayMulti(ArgCount = 0, *VarArgs):\n",
    "    print('You passed ' + str(ArgCount) + ' arguments.', VarArgs)\n",
    "\n",
    "# call the function\n",
    "DisplayMulti()"
   ]
  },
  {
   "cell_type": "code",
   "execution_count": 196,
   "metadata": {},
   "outputs": [
    {
     "name": "stdout",
     "output_type": "stream",
     "text": [
      "You passed 3 arguments. ('Hello', 1, True)\n"
     ]
    }
   ],
   "source": [
    "# call the function with arguments\n",
    "DisplayMulti(3, 'Hello', 1, True)"
   ]
  },
  {
   "cell_type": "code",
   "execution_count": 197,
   "metadata": {},
   "outputs": [
    {
     "data": {
      "text/plain": [
       "'/home/marius/Desktop/PYTHON Projects/Machine-Learning-for-Dummies-Book-Practice'"
      ]
     },
     "execution_count": 197,
     "metadata": {},
     "output_type": "execute_result"
    }
   ],
   "source": [
    "# WORKING WITH MODULES\n",
    "\n",
    "import os # working with files\n",
    "os.getcwd() # current directory\n",
    "\n",
    "# os.chdir('new_path') # change the directory so that Python looks in\n",
    "\n",
    "# os.environ['PYTHONPATH'] # determine where Python looks for modules"
   ]
  },
  {
   "cell_type": "code",
   "execution_count": 198,
   "metadata": {},
   "outputs": [
    {
     "name": "stdout",
     "output_type": "stream",
     "text": [
      "{'Red', 'Orange', 'Blue', 'Black', 'Yellow', 'Green'}\n",
      "{'Black', 'Green'}\n",
      "{'Red', 'Blue'}\n"
     ]
    }
   ],
   "source": [
    "# STORING DATA USING SETS, LISTS AND TUPLES\n",
    "\n",
    "# SETS\n",
    "\n",
    "SetA = set(['Red', 'Blue', 'Green', 'Black'])\n",
    "SetB = set(['Black', 'Green', 'Yellow', 'Orange'])\n",
    "\n",
    "# operations\n",
    "SetX = SetA.union(SetB) # union A U B\n",
    "SetY = SetA.intersection(SetB) # intersection\n",
    "SetZ = SetA.difference(SetB) # A - B\n",
    "\n",
    "# printing\n",
    "print('{0}\\n{1}\\n{2}'.format(SetX, SetY, SetZ))"
   ]
  },
  {
   "cell_type": "code",
   "execution_count": 199,
   "metadata": {},
   "outputs": [
    {
     "name": "stdout",
     "output_type": "stream",
     "text": [
      "True\n"
     ]
    }
   ],
   "source": [
    "# superset True of False (boolean)\n",
    "print(SetA.issuperset(SetY))"
   ]
  },
  {
   "cell_type": "code",
   "execution_count": 200,
   "metadata": {},
   "outputs": [
    {
     "name": "stdout",
     "output_type": "stream",
     "text": [
      "True\n"
     ]
    }
   ],
   "source": [
    "# subset True or False (boolean)\n",
    "print(SetA.issubset(SetX))"
   ]
  },
  {
   "cell_type": "code",
   "execution_count": 201,
   "metadata": {},
   "outputs": [],
   "source": [
    "# add element in Set\n",
    "SetA.add('Purple')"
   ]
  },
  {
   "cell_type": "code",
   "execution_count": 202,
   "metadata": {},
   "outputs": [
    {
     "name": "stdout",
     "output_type": "stream",
     "text": [
      "False\n"
     ]
    }
   ],
   "source": [
    "# verify subset condition\n",
    "print(SetA.issubset(SetX))"
   ]
  },
  {
   "cell_type": "code",
   "execution_count": 203,
   "metadata": {},
   "outputs": [
    {
     "name": "stdout",
     "output_type": "stream",
     "text": [
      "[0, 1, 2, 3, 4, 5, 6, 7]\n"
     ]
    }
   ],
   "source": [
    "# LISTS\n",
    "\n",
    "# defining a list\n",
    "ListA = [0, 1, 2, 3]\n",
    "ListB = [4, 5, 6, 7]\n",
    "\n",
    "# combined them\n",
    "ListA.extend(ListB)\n",
    "\n",
    "# print the list\n",
    "print(ListA)"
   ]
  },
  {
   "cell_type": "code",
   "execution_count": 204,
   "metadata": {},
   "outputs": [
    {
     "name": "stdout",
     "output_type": "stream",
     "text": [
      "[0, 1, 2, 3, 4, 5, 6, 7, -5]\n"
     ]
    }
   ],
   "source": [
    "# add value to list\n",
    "ListA.append(-5)\n",
    "print(ListA)"
   ]
  },
  {
   "cell_type": "code",
   "execution_count": 205,
   "metadata": {},
   "outputs": [
    {
     "name": "stdout",
     "output_type": "stream",
     "text": [
      "[0, 1, 2, 3, 4, 5, 6, 7]\n"
     ]
    }
   ],
   "source": [
    "# remove value from list\n",
    "ListA.remove(-5)\n",
    "print(ListA)"
   ]
  },
  {
   "cell_type": "code",
   "execution_count": 206,
   "metadata": {},
   "outputs": [
    {
     "name": "stdout",
     "output_type": "stream",
     "text": [
      "[0, 1, 2, 3, 4, 5, 6, 7, 4, 5, 6, 7]\n"
     ]
    }
   ],
   "source": [
    "# combining lists using concatenation\n",
    "ListX = ListA + ListB\n",
    "\n",
    "# print the combined list\n",
    "print(ListX)"
   ]
  },
  {
   "cell_type": "code",
   "execution_count": 207,
   "metadata": {},
   "outputs": [
    {
     "name": "stdout",
     "output_type": "stream",
     "text": [
      "['H', 'E', 'L', 'L', 'O']\n"
     ]
    }
   ],
   "source": [
    "# constructing lists using comprehensions\n",
    "Letters = [letter.upper() for letter in 'Hello']\n",
    "\n",
    "# print a list of letters in UpperCase\n",
    "print(Letters)"
   ]
  },
  {
   "cell_type": "code",
   "execution_count": 208,
   "metadata": {},
   "outputs": [
    {
     "name": "stdout",
     "output_type": "stream",
     "text": [
      "1\n",
      "2\n",
      "3\n",
      "\t 4\n",
      "\t 5\n",
      "\t 6\n",
      "\t\t 7\n",
      "\t\t 8\n",
      "\t\t 9\n"
     ]
    }
   ],
   "source": [
    "# TUPLES\n",
    "\n",
    "MyTuple = (1, 2, 3, (4, 5, 6, (7, 8, 9)))\n",
    "\n",
    "# how does the nesting works\n",
    "for Value1 in MyTuple:\n",
    "    if type(Value1) == int:\n",
    "        print(Value1)\n",
    "    else:\n",
    "        for Value2 in Value1:\n",
    "            if type(Value2) == int:\n",
    "                print('\\t', Value2)\n",
    "            else:\n",
    "                for Value3 in Value2:\n",
    "                    print('\\t\\t', Value3)"
   ]
  },
  {
   "cell_type": "code",
   "execution_count": 209,
   "metadata": {},
   "outputs": [
    {
     "name": "stdout",
     "output_type": "stream",
     "text": [
      "(1, 2, 3, (4, 5, 6, (7, 8, 9)), 10, 11, 12, (13, 14, 15))\n"
     ]
    }
   ],
   "source": [
    "# adding new values\n",
    "MyNewTuple = MyTuple.__add__((10, 11, 12, (13, 14, 15)))\n",
    "\n",
    "# print the new tuple\n",
    "print(MyNewTuple)"
   ]
  },
  {
   "cell_type": "code",
   "execution_count": 210,
   "metadata": {},
   "outputs": [
    {
     "name": "stdout",
     "output_type": "stream",
     "text": [
      "Yellow\n"
     ]
    }
   ],
   "source": [
    "# DEFINING USEFUL ITERATORS\n",
    "\n",
    "ListA = ['Orange', 'Yellow', 'Green', 'Brown']\n",
    "ListB = [1, 2, 3, 4]\n",
    "\n",
    "# print the secondest color\n",
    "print(ListA[1])\n"
   ]
  },
  {
   "cell_type": "code",
   "execution_count": 211,
   "metadata": {},
   "outputs": [
    {
     "name": "stdout",
     "output_type": "stream",
     "text": [
      "[2, 3]\n"
     ]
    }
   ],
   "source": [
    "# WORKING WITH RANGES\n",
    "\n",
    "# slicing\n",
    "print(ListB[1:3])"
   ]
  },
  {
   "cell_type": "code",
   "execution_count": 212,
   "metadata": {},
   "outputs": [
    {
     "name": "stdout",
     "output_type": "stream",
     "text": [
      "2\n",
      "3\n"
     ]
    }
   ],
   "source": [
    "# for loop\n",
    "for Value in ListB[1: 3]:\n",
    "    print(Value)"
   ]
  },
  {
   "cell_type": "code",
   "execution_count": 213,
   "metadata": {},
   "outputs": [
    {
     "name": "stdout",
     "output_type": "stream",
     "text": [
      "[1, 2, 3]\n"
     ]
    }
   ],
   "source": [
    "# print first 3 values\n",
    "print(ListB[:3])"
   ]
  },
  {
   "cell_type": "code",
   "execution_count": 214,
   "metadata": {},
   "outputs": [
    {
     "name": "stdout",
     "output_type": "stream",
     "text": [
      "Orange \t 1\n",
      "Yellow \t 2\n",
      "Green \t 3\n",
      "Brown \t 4\n"
     ]
    }
   ],
   "source": [
    "# ITERATING MULTIPLE LISTS USING ZIP\n",
    "\n",
    "# process two lists in parallel\n",
    "for Value1, Value2 in zip(ListA, ListB):\n",
    "    print(Value1, '\\t', Value2)"
   ]
  },
  {
   "cell_type": "code",
   "execution_count": 215,
   "metadata": {},
   "outputs": [
    {
     "name": "stdout",
     "output_type": "stream",
     "text": [
      "H\n",
      "E\n",
      "L\n",
      "L\n",
      "O\n"
     ]
    }
   ],
   "source": [
    "# WORKING WITH GENERATORS USING YIELD\n",
    "\n",
    "def MyLetter():\n",
    "    for Letter in Letters:\n",
    "        yield Letter\n",
    "\n",
    "# creating the Letters list\n",
    "Letters = [letter.upper() for letter in 'Hello']\n",
    "\n",
    "# create the object\n",
    "ListIt = MyLetter()\n",
    "\n",
    "# printing the object\n",
    "print(next(ListIt))\n",
    "print(next(ListIt))\n",
    "print(next(ListIt))\n",
    "print(next(ListIt))\n",
    "print(next(ListIt))\n"
   ]
  },
  {
   "cell_type": "code",
   "execution_count": 216,
   "metadata": {},
   "outputs": [
    {
     "name": "stdout",
     "output_type": "stream",
     "text": [
      "3\n"
     ]
    }
   ],
   "source": [
    "# DICTIONARIES\n",
    "\n",
    "MyDict = {'Orange': 1, 'Blue': 2, 'Pink': 3}\n",
    "\n",
    "# storing and retrieving data \n",
    "print(MyDict['Pink'])"
   ]
  },
  {
   "cell_type": "code",
   "execution_count": 217,
   "metadata": {},
   "outputs": [
    {
     "name": "stdout",
     "output_type": "stream",
     "text": [
      "dict_keys(['Orange', 'Blue', 'Pink'])\n"
     ]
    }
   ],
   "source": [
    "# see the keys\n",
    "print(MyDict.keys())"
   ]
  },
  {
   "cell_type": "code",
   "execution_count": 218,
   "metadata": {},
   "outputs": [
    {
     "name": "stdout",
     "output_type": "stream",
     "text": [
      "dict_values([1, 2, 3])\n"
     ]
    }
   ],
   "source": [
    "# see the values\n",
    "print(MyDict.values())"
   ]
  },
  {
   "cell_type": "markdown",
   "metadata": {},
   "source": [
    "<span style=\"font-size: 30px\"> Part 3: </span> <span style=\"font-size: 30px; color: green\"> Getting Started with the Math Basics</span>"
   ]
  },
  {
   "cell_type": "markdown",
   "metadata": {},
   "source": [
    "<span style=\"font-size: 20px\"> Chapter 7: </span> <span style=\"font-size: 20px; color: skyblue\"> Demystifying the Math Behind Machine Learning </span>"
   ]
  },
  {
   "cell_type": "code",
   "execution_count": 219,
   "metadata": {},
   "outputs": [
    {
     "name": "stdout",
     "output_type": "stream",
     "text": [
      "15 \n",
      "\n"
     ]
    }
   ],
   "source": [
    "# UNDERSTANDING SCALAR AND VECTOR OPERATIONS\n",
    "\n",
    "# NumPy Library\n",
    "import numpy as np\n",
    "\n",
    "# 16 bit long value\n",
    "myShort = np.short(15)\n",
    "print(myShort, '\\n')"
   ]
  },
  {
   "cell_type": "code",
   "execution_count": 220,
   "metadata": {},
   "outputs": [
    {
     "name": "stdout",
     "output_type": "stream",
     "text": [
      "[1 3 5 7 9] \n",
      "\n"
     ]
    }
   ],
   "source": [
    "# creating a vector normally\n",
    "myVect = np.array([1, 3, 5, 7, 9])\n",
    "print(myVect, '\\n')"
   ]
  },
  {
   "cell_type": "code",
   "execution_count": 221,
   "metadata": {},
   "outputs": [
    {
     "name": "stdout",
     "output_type": "stream",
     "text": [
      "[1 3 5 7 9] \n",
      "\n"
     ]
    }
   ],
   "source": [
    "# arange\n",
    "myVect = np.arange(1, 10, 2)\n",
    "print(myVect, '\\n')"
   ]
  },
  {
   "cell_type": "code",
   "execution_count": 222,
   "metadata": {},
   "outputs": [
    {
     "name": "stdout",
     "output_type": "stream",
     "text": [
      "[1 2 3 4] \n",
      "\n"
     ]
    }
   ],
   "source": [
    "# specifying the data\n",
    "myVect = np.array(np.int16([1.4, 2, 3, 4]))\n",
    "print(myVect, '\\n')"
   ]
  },
  {
   "cell_type": "code",
   "execution_count": 223,
   "metadata": {},
   "outputs": [
    {
     "name": "stdout",
     "output_type": "stream",
     "text": [
      "[1. 1. 1. 1.] \n",
      "\n"
     ]
    }
   ],
   "source": [
    "# fill the vector with ones\n",
    "myVect = np.ones(4)\n",
    "print(myVect, '\\n')"
   ]
  },
  {
   "cell_type": "code",
   "execution_count": 224,
   "metadata": {},
   "outputs": [
    {
     "name": "stdout",
     "output_type": "stream",
     "text": [
      "[0. 0. 0. 0.] \n",
      "\n"
     ]
    }
   ],
   "source": [
    "# fill the vector with ones\n",
    "myVect = np.zeros(4)\n",
    "print(myVect, '\\n')"
   ]
  },
  {
   "cell_type": "code",
   "execution_count": 225,
   "metadata": {},
   "outputs": [
    {
     "name": "stdout",
     "output_type": "stream",
     "text": [
      "[2 3 4 5] \n",
      "\n"
     ]
    }
   ],
   "source": [
    "# MATH FUNCTIONS\n",
    "\n",
    "myVect = np.array([1, 2, 3, 4])\n",
    "\n",
    "# adds 1\n",
    "print(myVect + 1, '\\n') "
   ]
  },
  {
   "cell_type": "code",
   "execution_count": 226,
   "metadata": {},
   "outputs": [
    {
     "name": "stdout",
     "output_type": "stream",
     "text": [
      "[0 1 2 3] \n",
      "\n"
     ]
    }
   ],
   "source": [
    "# subtracts 1\n",
    "print(myVect - 1, '\\n') "
   ]
  },
  {
   "cell_type": "code",
   "execution_count": 227,
   "metadata": {},
   "outputs": [
    {
     "name": "stdout",
     "output_type": "stream",
     "text": [
      "[ 2  4  8 16] \n",
      "\n"
     ]
    }
   ],
   "source": [
    "# 2nd power\n",
    "print(2 ** myVect, '\\n') "
   ]
  },
  {
   "cell_type": "code",
   "execution_count": 228,
   "metadata": {},
   "outputs": [
    {
     "name": "stdout",
     "output_type": "stream",
     "text": [
      "[False  True False  True] \n",
      "\n",
      "[ True False  True False] \n",
      "\n"
     ]
    }
   ],
   "source": [
    "# comparison operations\n",
    "a = np.array([1, 2, 3, 4])\n",
    "b = np.array([2, 2, 4, 4])\n",
    "\n",
    "print(a == b, '\\n')\n",
    "print(a < b, '\\n')"
   ]
  },
  {
   "cell_type": "code",
   "execution_count": 229,
   "metadata": {},
   "outputs": [
    {
     "name": "stdout",
     "output_type": "stream",
     "text": [
      "[ True  True  True False] \n",
      "\n",
      "[ True False False False] \n",
      "\n",
      "[False  True False  True] \n",
      "\n",
      "[False  True  True False] \n",
      "\n"
     ]
    }
   ],
   "source": [
    "# logical operations\n",
    "a = np.array([True, False, True, False])\n",
    "b = np.array([True, True, False, False])\n",
    "\n",
    "print(np.logical_or(a, b), '\\n')\n",
    "print(np.logical_and(a, b), '\\n')\n",
    "print(np.logical_not(a), '\\n')\n",
    "print(np.logical_xor(a, b), '\\n')"
   ]
  },
  {
   "cell_type": "code",
   "execution_count": 230,
   "metadata": {},
   "outputs": [
    {
     "name": "stdout",
     "output_type": "stream",
     "text": [
      "[ 1  4  9 16]\n"
     ]
    }
   ],
   "source": [
    "# PERFORMING VECTOR MULTIPLICATION\n",
    "\n",
    "myVect = np.array([1, 2, 3, 4])\n",
    "\n",
    "print(myVect * myVect)"
   ]
  },
  {
   "cell_type": "code",
   "execution_count": 231,
   "metadata": {},
   "outputs": [
    {
     "data": {
      "text/plain": [
       "30"
      ]
     },
     "execution_count": 231,
     "metadata": {},
     "output_type": "execute_result"
    }
   ],
   "source": [
    "# dot product\n",
    "myVect.dot(myVect)"
   ]
  },
  {
   "cell_type": "code",
   "execution_count": 232,
   "metadata": {},
   "outputs": [
    {
     "name": "stdout",
     "output_type": "stream",
     "text": [
      "[[ 0  1]\n",
      " [ 1 -1]]\n"
     ]
    }
   ],
   "source": [
    "# CREATING A MATRIX\n",
    "\n",
    "# UNDERSTANDING BASIC OPERATIONS\n",
    "\n",
    "# substraction\n",
    "A = np.array([[1, 1], [1, 0]])\n",
    "B = np.array([[1, 0], [0, 1]])\n",
    "\n",
    "C = A - B\n",
    "print(C)"
   ]
  },
  {
   "cell_type": "code",
   "execution_count": 233,
   "metadata": {},
   "outputs": [
    {
     "name": "stdout",
     "output_type": "stream",
     "text": [
      "[[ 0 -2]\n",
      " [-2  2]]\n"
     ]
    }
   ],
   "source": [
    "# multiply the resulting matrix\n",
    "print(C * -2)"
   ]
  },
  {
   "cell_type": "code",
   "execution_count": 234,
   "metadata": {},
   "outputs": [
    {
     "name": "stdout",
     "output_type": "stream",
     "text": [
      "[ 2 -2  3]\n"
     ]
    }
   ],
   "source": [
    "# performing matrix multiplication\n",
    "X = np.array([[4, 5], [2, 4], [3, 3]])\n",
    "b = [3, -2]\n",
    "print(X @ b)"
   ]
  },
  {
   "cell_type": "code",
   "execution_count": 235,
   "metadata": {},
   "outputs": [
    {
     "name": "stdout",
     "output_type": "stream",
     "text": [
      "2\n",
      "-2\n",
      "3\n"
     ]
    }
   ],
   "source": [
    "# explication\n",
    "print(sum([4*3, 5*-2]))\n",
    "print(sum([2*3, 4*-2]))\n",
    "print(sum([3*3, 3*-2]))"
   ]
  },
  {
   "cell_type": "code",
   "execution_count": 236,
   "metadata": {},
   "outputs": [
    {
     "name": "stdout",
     "output_type": "stream",
     "text": [
      "[ 2 -2  3]\n"
     ]
    }
   ],
   "source": [
    "# y = Xb\n",
    "B = np.array([[3, -2], [-2, 5]])\n",
    "print(X @ b) "
   ]
  },
  {
   "cell_type": "code",
   "execution_count": 237,
   "metadata": {},
   "outputs": [
    {
     "name": "stdout",
     "output_type": "stream",
     "text": [
      "[[ 1  2  7]\n",
      " [ 2  3 11]\n",
      " [ 3  5 13]]\n"
     ]
    }
   ],
   "source": [
    "# GLACING AT ADVANCED MATRIX OPERATIONS\n",
    "\n",
    "# transposition\n",
    "A = np.array([[1, 2, 3], [2, 3, 5], [7, 11, 13]])\n",
    "print(A.transpose())"
   ]
  },
  {
   "cell_type": "code",
   "execution_count": 238,
   "metadata": {},
   "outputs": [
    {
     "name": "stdout",
     "output_type": "stream",
     "text": [
      "[[-3.2  1.4  0.2]\n",
      " [ 1.8 -1.6  0.2]\n",
      " [ 0.2  0.6 -0.2]]\n"
     ]
    }
   ],
   "source": [
    "# inverse of matrix A\n",
    "print(np.linalg.inv(A))"
   ]
  },
  {
   "cell_type": "code",
   "execution_count": 239,
   "metadata": {},
   "outputs": [
    {
     "name": "stdout",
     "output_type": "stream",
     "text": [
      "[44 21 37]\n",
      "(3,)\n"
     ]
    }
   ],
   "source": [
    "# USING VECTORIZATION EFFECTIVELY\n",
    "\n",
    "# create ndarray arrays of multiple dimensions\n",
    "y = np.array([44, 21, 37])\n",
    "print(y)\n",
    "# shape of the matrix\n",
    "print(y.shape)"
   ]
  },
  {
   "cell_type": "code",
   "execution_count": 240,
   "metadata": {},
   "outputs": [
    {
     "name": "stdout",
     "output_type": "stream",
     "text": [
      "[[  1.1   1.  545.    1. ]\n",
      " [  4.6   0.  345.    2. ]\n",
      " [  7.2   1.  754.    3. ]]\n"
     ]
    }
   ],
   "source": [
    "# create matrices made of rows and columns by using list of lists\n",
    "X = np.array([[1.1, 1, 545, 1], [4.6, 0, 345, 2], [7.2, 1, 754, 3]])\n",
    "print(X)"
   ]
  },
  {
   "cell_type": "code",
   "execution_count": 241,
   "metadata": {},
   "outputs": [
    {
     "name": "stdout",
     "output_type": "stream",
     "text": [
      "[[  1.1   1.  545.    1. ]\n",
      " [  4.6   0.  345.    2. ]\n",
      " [  7.2   1.  754.    3. ]]\n"
     ]
    }
   ],
   "source": [
    "# reshape a single list matrix\n",
    "X = np.array([1.1, 1, 545, 1, 4.6, 0, 345, 2, 7.2, 1, 754, 3]).reshape(3, 4)\n",
    "print(X)"
   ]
  },
  {
   "cell_type": "markdown",
   "metadata": {},
   "source": [
    "<span style=\"font-size: 20px\"> Chapter 9: </span> <span style=\"font-size: 20px; color: skyblue\"> Validating Machine Learning </span>"
   ]
  },
  {
   "cell_type": "code",
   "execution_count": 242,
   "metadata": {},
   "outputs": [
    {
     "name": "stdout",
     "output_type": "stream",
     "text": [
      "Avg out-of-bootstrap:  36.8%\n"
     ]
    }
   ],
   "source": [
    "# LOOKING FOR ALTERNATIVES IN VALIDATION\n",
    "\n",
    "# bootstrapping\n",
    "n = 1000\n",
    "results = list()\n",
    "\n",
    "for j in range(10000):\n",
    "    chosen = np.random.randint(0, n, size = n)\n",
    "    results.append(len(np.unique(chosen)) / n)\n",
    "\n",
    "avg_oob = 1 - np.mean(results)\n",
    "print(f\"Avg out-of-bootstrap: {avg_oob * 100 : 0.3}%\")"
   ]
  },
  {
   "cell_type": "markdown",
   "metadata": {},
   "source": [
    "<span style=\"font-size: 20px\"> Chapter 10: </span> <span style=\"font-size: 20px; color: skyblue\"> Starting with Simple Learners</span>"
   ]
  },
  {
   "cell_type": "code",
   "execution_count": 243,
   "metadata": {},
   "outputs": [
    {
     "data": {
      "text/html": [
       "<div>\n",
       "<style scoped>\n",
       "    .dataframe tbody tr th:only-of-type {\n",
       "        vertical-align: middle;\n",
       "    }\n",
       "\n",
       "    .dataframe tbody tr th {\n",
       "        vertical-align: top;\n",
       "    }\n",
       "\n",
       "    .dataframe thead th {\n",
       "        text-align: right;\n",
       "    }\n",
       "</style>\n",
       "<table border=\"1\" class=\"dataframe\">\n",
       "  <thead>\n",
       "    <tr style=\"text-align: right;\">\n",
       "      <th></th>\n",
       "      <th>outlook</th>\n",
       "      <th>temperature</th>\n",
       "      <th>humidity</th>\n",
       "      <th>wind</th>\n",
       "      <th>play</th>\n",
       "    </tr>\n",
       "  </thead>\n",
       "  <tbody>\n",
       "    <tr>\n",
       "      <th>0</th>\n",
       "      <td>Sunny</td>\n",
       "      <td>Hot</td>\n",
       "      <td>High</td>\n",
       "      <td>Weak</td>\n",
       "      <td>0</td>\n",
       "    </tr>\n",
       "    <tr>\n",
       "      <th>1</th>\n",
       "      <td>Sunny</td>\n",
       "      <td>Hot</td>\n",
       "      <td>High</td>\n",
       "      <td>Strong</td>\n",
       "      <td>0</td>\n",
       "    </tr>\n",
       "    <tr>\n",
       "      <th>2</th>\n",
       "      <td>Sunny</td>\n",
       "      <td>Mild</td>\n",
       "      <td>High</td>\n",
       "      <td>Weak</td>\n",
       "      <td>0</td>\n",
       "    </tr>\n",
       "    <tr>\n",
       "      <th>3</th>\n",
       "      <td>Sunny</td>\n",
       "      <td>Mild</td>\n",
       "      <td>Normal</td>\n",
       "      <td>Strong</td>\n",
       "      <td>1</td>\n",
       "    </tr>\n",
       "    <tr>\n",
       "      <th>4</th>\n",
       "      <td>Sunny</td>\n",
       "      <td>Cool</td>\n",
       "      <td>Normal</td>\n",
       "      <td>Weak</td>\n",
       "      <td>1</td>\n",
       "    </tr>\n",
       "    <tr>\n",
       "      <th>5</th>\n",
       "      <td>Overcast</td>\n",
       "      <td>Hot</td>\n",
       "      <td>High</td>\n",
       "      <td>Weak</td>\n",
       "      <td>1</td>\n",
       "    </tr>\n",
       "    <tr>\n",
       "      <th>6</th>\n",
       "      <td>Overcast</td>\n",
       "      <td>Hot</td>\n",
       "      <td>Normal</td>\n",
       "      <td>Weak</td>\n",
       "      <td>1</td>\n",
       "    </tr>\n",
       "    <tr>\n",
       "      <th>7</th>\n",
       "      <td>Overcast</td>\n",
       "      <td>Mild</td>\n",
       "      <td>High</td>\n",
       "      <td>Strong</td>\n",
       "      <td>1</td>\n",
       "    </tr>\n",
       "    <tr>\n",
       "      <th>8</th>\n",
       "      <td>Overcast</td>\n",
       "      <td>Cool</td>\n",
       "      <td>Normal</td>\n",
       "      <td>Strong</td>\n",
       "      <td>1</td>\n",
       "    </tr>\n",
       "    <tr>\n",
       "      <th>9</th>\n",
       "      <td>Rain</td>\n",
       "      <td>Mild</td>\n",
       "      <td>High</td>\n",
       "      <td>Weak</td>\n",
       "      <td>1</td>\n",
       "    </tr>\n",
       "    <tr>\n",
       "      <th>10</th>\n",
       "      <td>Rain</td>\n",
       "      <td>Mild</td>\n",
       "      <td>High</td>\n",
       "      <td>Strong</td>\n",
       "      <td>0</td>\n",
       "    </tr>\n",
       "    <tr>\n",
       "      <th>11</th>\n",
       "      <td>Rain</td>\n",
       "      <td>Mild</td>\n",
       "      <td>Normal</td>\n",
       "      <td>Weak</td>\n",
       "      <td>1</td>\n",
       "    </tr>\n",
       "    <tr>\n",
       "      <th>12</th>\n",
       "      <td>Rain</td>\n",
       "      <td>Cool</td>\n",
       "      <td>Normal</td>\n",
       "      <td>Weak</td>\n",
       "      <td>1</td>\n",
       "    </tr>\n",
       "    <tr>\n",
       "      <th>13</th>\n",
       "      <td>Rain</td>\n",
       "      <td>Cool</td>\n",
       "      <td>Normal</td>\n",
       "      <td>Strong</td>\n",
       "      <td>0</td>\n",
       "    </tr>\n",
       "  </tbody>\n",
       "</table>\n",
       "</div>"
      ],
      "text/plain": [
       "     outlook temperature humidity    wind  play\n",
       "0      Sunny         Hot     High    Weak     0\n",
       "1      Sunny         Hot     High  Strong     0\n",
       "2      Sunny        Mild     High    Weak     0\n",
       "3      Sunny        Mild   Normal  Strong     1\n",
       "4      Sunny        Cool   Normal    Weak     1\n",
       "5   Overcast         Hot     High    Weak     1\n",
       "6   Overcast         Hot   Normal    Weak     1\n",
       "7   Overcast        Mild     High  Strong     1\n",
       "8   Overcast        Cool   Normal  Strong     1\n",
       "9       Rain        Mild     High    Weak     1\n",
       "10      Rain        Mild     High  Strong     0\n",
       "11      Rain        Mild   Normal    Weak     1\n",
       "12      Rain        Cool   Normal    Weak     1\n",
       "13      Rain        Cool   Normal  Strong     0"
      ]
     },
     "execution_count": 243,
     "metadata": {},
     "output_type": "execute_result"
    }
   ],
   "source": [
    "# GROWING GREEDY CLASSIFICATION TREES\n",
    "\n",
    "# predicting outcomes by splitting data\n",
    "import pandas as pd\n",
    "\n",
    "filename = 'https://github.com/lmassaron/datasets/'\n",
    "filename += 'releases/download/1.0/tennis.feather'\n",
    "# creating a dataframe\n",
    "tennis = pd.read_feather(filename)\n",
    "# show the dataframe\n",
    "tennis"
   ]
  },
  {
   "cell_type": "code",
   "execution_count": 244,
   "metadata": {},
   "outputs": [
    {
     "data": {
      "text/html": [
       "<div>\n",
       "<style scoped>\n",
       "    .dataframe tbody tr th:only-of-type {\n",
       "        vertical-align: middle;\n",
       "    }\n",
       "\n",
       "    .dataframe tbody tr th {\n",
       "        vertical-align: top;\n",
       "    }\n",
       "\n",
       "    .dataframe thead th {\n",
       "        text-align: right;\n",
       "    }\n",
       "</style>\n",
       "<table border=\"1\" class=\"dataframe\">\n",
       "  <thead>\n",
       "    <tr style=\"text-align: right;\">\n",
       "      <th></th>\n",
       "      <th>outlook_Overcast</th>\n",
       "      <th>outlook_Rain</th>\n",
       "      <th>outlook_Sunny</th>\n",
       "      <th>temperature_Cool</th>\n",
       "      <th>temperature_Hot</th>\n",
       "      <th>temperature_Mild</th>\n",
       "      <th>humidity_High</th>\n",
       "      <th>humidity_Normal</th>\n",
       "      <th>wind_Strong</th>\n",
       "      <th>wind_Weak</th>\n",
       "    </tr>\n",
       "  </thead>\n",
       "  <tbody>\n",
       "    <tr>\n",
       "      <th>0</th>\n",
       "      <td>False</td>\n",
       "      <td>False</td>\n",
       "      <td>True</td>\n",
       "      <td>False</td>\n",
       "      <td>True</td>\n",
       "      <td>False</td>\n",
       "      <td>True</td>\n",
       "      <td>False</td>\n",
       "      <td>False</td>\n",
       "      <td>True</td>\n",
       "    </tr>\n",
       "    <tr>\n",
       "      <th>1</th>\n",
       "      <td>False</td>\n",
       "      <td>False</td>\n",
       "      <td>True</td>\n",
       "      <td>False</td>\n",
       "      <td>True</td>\n",
       "      <td>False</td>\n",
       "      <td>True</td>\n",
       "      <td>False</td>\n",
       "      <td>True</td>\n",
       "      <td>False</td>\n",
       "    </tr>\n",
       "    <tr>\n",
       "      <th>2</th>\n",
       "      <td>False</td>\n",
       "      <td>False</td>\n",
       "      <td>True</td>\n",
       "      <td>False</td>\n",
       "      <td>False</td>\n",
       "      <td>True</td>\n",
       "      <td>True</td>\n",
       "      <td>False</td>\n",
       "      <td>False</td>\n",
       "      <td>True</td>\n",
       "    </tr>\n",
       "    <tr>\n",
       "      <th>3</th>\n",
       "      <td>False</td>\n",
       "      <td>False</td>\n",
       "      <td>True</td>\n",
       "      <td>False</td>\n",
       "      <td>False</td>\n",
       "      <td>True</td>\n",
       "      <td>False</td>\n",
       "      <td>True</td>\n",
       "      <td>True</td>\n",
       "      <td>False</td>\n",
       "    </tr>\n",
       "    <tr>\n",
       "      <th>4</th>\n",
       "      <td>False</td>\n",
       "      <td>False</td>\n",
       "      <td>True</td>\n",
       "      <td>True</td>\n",
       "      <td>False</td>\n",
       "      <td>False</td>\n",
       "      <td>False</td>\n",
       "      <td>True</td>\n",
       "      <td>False</td>\n",
       "      <td>True</td>\n",
       "    </tr>\n",
       "    <tr>\n",
       "      <th>5</th>\n",
       "      <td>True</td>\n",
       "      <td>False</td>\n",
       "      <td>False</td>\n",
       "      <td>False</td>\n",
       "      <td>True</td>\n",
       "      <td>False</td>\n",
       "      <td>True</td>\n",
       "      <td>False</td>\n",
       "      <td>False</td>\n",
       "      <td>True</td>\n",
       "    </tr>\n",
       "    <tr>\n",
       "      <th>6</th>\n",
       "      <td>True</td>\n",
       "      <td>False</td>\n",
       "      <td>False</td>\n",
       "      <td>False</td>\n",
       "      <td>True</td>\n",
       "      <td>False</td>\n",
       "      <td>False</td>\n",
       "      <td>True</td>\n",
       "      <td>False</td>\n",
       "      <td>True</td>\n",
       "    </tr>\n",
       "    <tr>\n",
       "      <th>7</th>\n",
       "      <td>True</td>\n",
       "      <td>False</td>\n",
       "      <td>False</td>\n",
       "      <td>False</td>\n",
       "      <td>False</td>\n",
       "      <td>True</td>\n",
       "      <td>True</td>\n",
       "      <td>False</td>\n",
       "      <td>True</td>\n",
       "      <td>False</td>\n",
       "    </tr>\n",
       "    <tr>\n",
       "      <th>8</th>\n",
       "      <td>True</td>\n",
       "      <td>False</td>\n",
       "      <td>False</td>\n",
       "      <td>True</td>\n",
       "      <td>False</td>\n",
       "      <td>False</td>\n",
       "      <td>False</td>\n",
       "      <td>True</td>\n",
       "      <td>True</td>\n",
       "      <td>False</td>\n",
       "    </tr>\n",
       "    <tr>\n",
       "      <th>9</th>\n",
       "      <td>False</td>\n",
       "      <td>True</td>\n",
       "      <td>False</td>\n",
       "      <td>False</td>\n",
       "      <td>False</td>\n",
       "      <td>True</td>\n",
       "      <td>True</td>\n",
       "      <td>False</td>\n",
       "      <td>False</td>\n",
       "      <td>True</td>\n",
       "    </tr>\n",
       "    <tr>\n",
       "      <th>10</th>\n",
       "      <td>False</td>\n",
       "      <td>True</td>\n",
       "      <td>False</td>\n",
       "      <td>False</td>\n",
       "      <td>False</td>\n",
       "      <td>True</td>\n",
       "      <td>True</td>\n",
       "      <td>False</td>\n",
       "      <td>True</td>\n",
       "      <td>False</td>\n",
       "    </tr>\n",
       "    <tr>\n",
       "      <th>11</th>\n",
       "      <td>False</td>\n",
       "      <td>True</td>\n",
       "      <td>False</td>\n",
       "      <td>False</td>\n",
       "      <td>False</td>\n",
       "      <td>True</td>\n",
       "      <td>False</td>\n",
       "      <td>True</td>\n",
       "      <td>False</td>\n",
       "      <td>True</td>\n",
       "    </tr>\n",
       "    <tr>\n",
       "      <th>12</th>\n",
       "      <td>False</td>\n",
       "      <td>True</td>\n",
       "      <td>False</td>\n",
       "      <td>True</td>\n",
       "      <td>False</td>\n",
       "      <td>False</td>\n",
       "      <td>False</td>\n",
       "      <td>True</td>\n",
       "      <td>False</td>\n",
       "      <td>True</td>\n",
       "    </tr>\n",
       "    <tr>\n",
       "      <th>13</th>\n",
       "      <td>False</td>\n",
       "      <td>True</td>\n",
       "      <td>False</td>\n",
       "      <td>True</td>\n",
       "      <td>False</td>\n",
       "      <td>False</td>\n",
       "      <td>False</td>\n",
       "      <td>True</td>\n",
       "      <td>True</td>\n",
       "      <td>False</td>\n",
       "    </tr>\n",
       "  </tbody>\n",
       "</table>\n",
       "</div>"
      ],
      "text/plain": [
       "    outlook_Overcast  outlook_Rain  outlook_Sunny  temperature_Cool  \\\n",
       "0              False         False           True             False   \n",
       "1              False         False           True             False   \n",
       "2              False         False           True             False   \n",
       "3              False         False           True             False   \n",
       "4              False         False           True              True   \n",
       "5               True         False          False             False   \n",
       "6               True         False          False             False   \n",
       "7               True         False          False             False   \n",
       "8               True         False          False              True   \n",
       "9              False          True          False             False   \n",
       "10             False          True          False             False   \n",
       "11             False          True          False             False   \n",
       "12             False          True          False              True   \n",
       "13             False          True          False              True   \n",
       "\n",
       "    temperature_Hot  temperature_Mild  humidity_High  humidity_Normal  \\\n",
       "0              True             False           True            False   \n",
       "1              True             False           True            False   \n",
       "2             False              True           True            False   \n",
       "3             False              True          False             True   \n",
       "4             False             False          False             True   \n",
       "5              True             False           True            False   \n",
       "6              True             False          False             True   \n",
       "7             False              True           True            False   \n",
       "8             False             False          False             True   \n",
       "9             False              True           True            False   \n",
       "10            False              True           True            False   \n",
       "11            False              True          False             True   \n",
       "12            False             False          False             True   \n",
       "13            False             False          False             True   \n",
       "\n",
       "    wind_Strong  wind_Weak  \n",
       "0         False       True  \n",
       "1          True      False  \n",
       "2         False       True  \n",
       "3          True      False  \n",
       "4         False       True  \n",
       "5         False       True  \n",
       "6         False       True  \n",
       "7          True      False  \n",
       "8          True      False  \n",
       "9         False       True  \n",
       "10         True      False  \n",
       "11        False       True  \n",
       "12        False       True  \n",
       "13         True      False  "
      ]
     },
     "execution_count": 244,
     "metadata": {},
     "output_type": "execute_result"
    }
   ],
   "source": [
    "# converting all the categorical data into binary features / one hot encoding technique\n",
    "# making the list of lists\n",
    "X = tennis[['outlook', 'temperature', 'humidity', 'wind']]\n",
    "# putting it in a dataframe\n",
    "X = pd.get_dummies(X)\n",
    "# show the dataframe\n",
    "X"
   ]
  },
  {
   "cell_type": "code",
   "execution_count": 245,
   "metadata": {},
   "outputs": [
    {
     "data": {
      "text/plain": [
       "0     0\n",
       "1     0\n",
       "2     0\n",
       "3     1\n",
       "4     1\n",
       "5     1\n",
       "6     1\n",
       "7     1\n",
       "8     1\n",
       "9     1\n",
       "10    0\n",
       "11    1\n",
       "12    1\n",
       "13    0\n",
       "Name: play, dtype: int64"
      ]
     },
     "execution_count": 245,
     "metadata": {},
     "output_type": "execute_result"
    }
   ],
   "source": [
    "# play values\n",
    "y = tennis.play\n",
    "y"
   ]
  },
  {
   "cell_type": "code",
   "execution_count": 246,
   "metadata": {},
   "outputs": [
    {
     "data": {
      "text/html": [
       "<style>#sk-container-id-3 {color: black;}#sk-container-id-3 pre{padding: 0;}#sk-container-id-3 div.sk-toggleable {background-color: white;}#sk-container-id-3 label.sk-toggleable__label {cursor: pointer;display: block;width: 100%;margin-bottom: 0;padding: 0.3em;box-sizing: border-box;text-align: center;}#sk-container-id-3 label.sk-toggleable__label-arrow:before {content: \"▸\";float: left;margin-right: 0.25em;color: #696969;}#sk-container-id-3 label.sk-toggleable__label-arrow:hover:before {color: black;}#sk-container-id-3 div.sk-estimator:hover label.sk-toggleable__label-arrow:before {color: black;}#sk-container-id-3 div.sk-toggleable__content {max-height: 0;max-width: 0;overflow: hidden;text-align: left;background-color: #f0f8ff;}#sk-container-id-3 div.sk-toggleable__content pre {margin: 0.2em;color: black;border-radius: 0.25em;background-color: #f0f8ff;}#sk-container-id-3 input.sk-toggleable__control:checked~div.sk-toggleable__content {max-height: 200px;max-width: 100%;overflow: auto;}#sk-container-id-3 input.sk-toggleable__control:checked~label.sk-toggleable__label-arrow:before {content: \"▾\";}#sk-container-id-3 div.sk-estimator input.sk-toggleable__control:checked~label.sk-toggleable__label {background-color: #d4ebff;}#sk-container-id-3 div.sk-label input.sk-toggleable__control:checked~label.sk-toggleable__label {background-color: #d4ebff;}#sk-container-id-3 input.sk-hidden--visually {border: 0;clip: rect(1px 1px 1px 1px);clip: rect(1px, 1px, 1px, 1px);height: 1px;margin: -1px;overflow: hidden;padding: 0;position: absolute;width: 1px;}#sk-container-id-3 div.sk-estimator {font-family: monospace;background-color: #f0f8ff;border: 1px dotted black;border-radius: 0.25em;box-sizing: border-box;margin-bottom: 0.5em;}#sk-container-id-3 div.sk-estimator:hover {background-color: #d4ebff;}#sk-container-id-3 div.sk-parallel-item::after {content: \"\";width: 100%;border-bottom: 1px solid gray;flex-grow: 1;}#sk-container-id-3 div.sk-label:hover label.sk-toggleable__label {background-color: #d4ebff;}#sk-container-id-3 div.sk-serial::before {content: \"\";position: absolute;border-left: 1px solid gray;box-sizing: border-box;top: 0;bottom: 0;left: 50%;z-index: 0;}#sk-container-id-3 div.sk-serial {display: flex;flex-direction: column;align-items: center;background-color: white;padding-right: 0.2em;padding-left: 0.2em;position: relative;}#sk-container-id-3 div.sk-item {position: relative;z-index: 1;}#sk-container-id-3 div.sk-parallel {display: flex;align-items: stretch;justify-content: center;background-color: white;position: relative;}#sk-container-id-3 div.sk-item::before, #sk-container-id-3 div.sk-parallel-item::before {content: \"\";position: absolute;border-left: 1px solid gray;box-sizing: border-box;top: 0;bottom: 0;left: 50%;z-index: -1;}#sk-container-id-3 div.sk-parallel-item {display: flex;flex-direction: column;z-index: 1;position: relative;background-color: white;}#sk-container-id-3 div.sk-parallel-item:first-child::after {align-self: flex-end;width: 50%;}#sk-container-id-3 div.sk-parallel-item:last-child::after {align-self: flex-start;width: 50%;}#sk-container-id-3 div.sk-parallel-item:only-child::after {width: 0;}#sk-container-id-3 div.sk-dashed-wrapped {border: 1px dashed gray;margin: 0 0.4em 0.5em 0.4em;box-sizing: border-box;padding-bottom: 0.4em;background-color: white;}#sk-container-id-3 div.sk-label label {font-family: monospace;font-weight: bold;display: inline-block;line-height: 1.2em;}#sk-container-id-3 div.sk-label-container {text-align: center;}#sk-container-id-3 div.sk-container {/* jupyter's `normalize.less` sets `[hidden] { display: none; }` but bootstrap.min.css set `[hidden] { display: none !important; }` so we also need the `!important` here to be able to override the default hidden behavior on the sphinx rendered scikit-learn.org. See: https://github.com/scikit-learn/scikit-learn/issues/21755 */display: inline-block !important;position: relative;}#sk-container-id-3 div.sk-text-repr-fallback {display: none;}</style><div id=\"sk-container-id-3\" class=\"sk-top-container\"><div class=\"sk-text-repr-fallback\"><pre>DecisionTreeClassifier()</pre><b>In a Jupyter environment, please rerun this cell to show the HTML representation or trust the notebook. <br />On GitHub, the HTML representation is unable to render, please try loading this page with nbviewer.org.</b></div><div class=\"sk-container\" hidden><div class=\"sk-item\"><div class=\"sk-estimator sk-toggleable\"><input class=\"sk-toggleable__control sk-hidden--visually\" id=\"sk-estimator-id-3\" type=\"checkbox\" checked><label for=\"sk-estimator-id-3\" class=\"sk-toggleable__label sk-toggleable__label-arrow\">DecisionTreeClassifier</label><div class=\"sk-toggleable__content\"><pre>DecisionTreeClassifier()</pre></div></div></div></div></div>"
      ],
      "text/plain": [
       "DecisionTreeClassifier()"
      ]
     },
     "execution_count": 246,
     "metadata": {},
     "output_type": "execute_result"
    }
   ],
   "source": [
    "# fit all the available data and extract its rules and creating the tree\n",
    "from sklearn.tree import DecisionTreeClassifier\n",
    "dt = DecisionTreeClassifier()\n",
    "dt.fit(X, y)"
   ]
  },
  {
   "cell_type": "code",
   "execution_count": 247,
   "metadata": {},
   "outputs": [
    {
     "data": {
      "text/html": [
       "<div>\n",
       "<style scoped>\n",
       "    .dataframe tbody tr th:only-of-type {\n",
       "        vertical-align: middle;\n",
       "    }\n",
       "\n",
       "    .dataframe tbody tr th {\n",
       "        vertical-align: top;\n",
       "    }\n",
       "\n",
       "    .dataframe thead th {\n",
       "        text-align: right;\n",
       "    }\n",
       "</style>\n",
       "<table border=\"1\" class=\"dataframe\">\n",
       "  <thead>\n",
       "    <tr style=\"text-align: right;\">\n",
       "      <th></th>\n",
       "      <th>pclass</th>\n",
       "      <th>is_female</th>\n",
       "      <th>age</th>\n",
       "      <th>sibsp</th>\n",
       "      <th>parch</th>\n",
       "      <th>survived</th>\n",
       "    </tr>\n",
       "  </thead>\n",
       "  <tbody>\n",
       "    <tr>\n",
       "      <th>0</th>\n",
       "      <td>1</td>\n",
       "      <td>1</td>\n",
       "      <td>29</td>\n",
       "      <td>0</td>\n",
       "      <td>0</td>\n",
       "      <td>1</td>\n",
       "    </tr>\n",
       "    <tr>\n",
       "      <th>1</th>\n",
       "      <td>1</td>\n",
       "      <td>0</td>\n",
       "      <td>0</td>\n",
       "      <td>1</td>\n",
       "      <td>2</td>\n",
       "      <td>1</td>\n",
       "    </tr>\n",
       "    <tr>\n",
       "      <th>2</th>\n",
       "      <td>1</td>\n",
       "      <td>1</td>\n",
       "      <td>2</td>\n",
       "      <td>1</td>\n",
       "      <td>2</td>\n",
       "      <td>0</td>\n",
       "    </tr>\n",
       "    <tr>\n",
       "      <th>3</th>\n",
       "      <td>1</td>\n",
       "      <td>0</td>\n",
       "      <td>30</td>\n",
       "      <td>1</td>\n",
       "      <td>2</td>\n",
       "      <td>0</td>\n",
       "    </tr>\n",
       "    <tr>\n",
       "      <th>4</th>\n",
       "      <td>1</td>\n",
       "      <td>1</td>\n",
       "      <td>25</td>\n",
       "      <td>1</td>\n",
       "      <td>2</td>\n",
       "      <td>0</td>\n",
       "    </tr>\n",
       "    <tr>\n",
       "      <th>...</th>\n",
       "      <td>...</td>\n",
       "      <td>...</td>\n",
       "      <td>...</td>\n",
       "      <td>...</td>\n",
       "      <td>...</td>\n",
       "      <td>...</td>\n",
       "    </tr>\n",
       "    <tr>\n",
       "      <th>1304</th>\n",
       "      <td>3</td>\n",
       "      <td>1</td>\n",
       "      <td>14</td>\n",
       "      <td>1</td>\n",
       "      <td>0</td>\n",
       "      <td>0</td>\n",
       "    </tr>\n",
       "    <tr>\n",
       "      <th>1305</th>\n",
       "      <td>3</td>\n",
       "      <td>1</td>\n",
       "      <td>9999</td>\n",
       "      <td>1</td>\n",
       "      <td>0</td>\n",
       "      <td>0</td>\n",
       "    </tr>\n",
       "    <tr>\n",
       "      <th>1306</th>\n",
       "      <td>3</td>\n",
       "      <td>0</td>\n",
       "      <td>26</td>\n",
       "      <td>0</td>\n",
       "      <td>0</td>\n",
       "      <td>0</td>\n",
       "    </tr>\n",
       "    <tr>\n",
       "      <th>1307</th>\n",
       "      <td>3</td>\n",
       "      <td>0</td>\n",
       "      <td>27</td>\n",
       "      <td>0</td>\n",
       "      <td>0</td>\n",
       "      <td>0</td>\n",
       "    </tr>\n",
       "    <tr>\n",
       "      <th>1308</th>\n",
       "      <td>3</td>\n",
       "      <td>0</td>\n",
       "      <td>29</td>\n",
       "      <td>0</td>\n",
       "      <td>0</td>\n",
       "      <td>0</td>\n",
       "    </tr>\n",
       "  </tbody>\n",
       "</table>\n",
       "<p>1309 rows × 6 columns</p>\n",
       "</div>"
      ],
      "text/plain": [
       "      pclass  is_female   age  sibsp  parch  survived\n",
       "0          1          1    29      0      0         1\n",
       "1          1          0     0      1      2         1\n",
       "2          1          1     2      1      2         0\n",
       "3          1          0    30      1      2         0\n",
       "4          1          1    25      1      2         0\n",
       "...      ...        ...   ...    ...    ...       ...\n",
       "1304       3          1    14      1      0         0\n",
       "1305       3          1  9999      1      0         0\n",
       "1306       3          0    26      0      0         0\n",
       "1307       3          0    27      0      0         0\n",
       "1308       3          0    29      0      0         0\n",
       "\n",
       "[1309 rows x 6 columns]"
      ]
     },
     "execution_count": 247,
     "metadata": {},
     "output_type": "execute_result"
    }
   ],
   "source": [
    "# pruning overgrown trees\n",
    "filename = 'https://github.com/lmassaron/datasets/'\n",
    "filename += 'releases/download/1.0/titanic.feather'\n",
    "# putting it in a dataframe\n",
    "titanic = pd.read_feather(filename)\n",
    "# show the dataframe\n",
    "titanic"
   ]
  },
  {
   "cell_type": "code",
   "execution_count": 248,
   "metadata": {},
   "outputs": [
    {
     "data": {
      "text/html": [
       "<div>\n",
       "<style scoped>\n",
       "    .dataframe tbody tr th:only-of-type {\n",
       "        vertical-align: middle;\n",
       "    }\n",
       "\n",
       "    .dataframe tbody tr th {\n",
       "        vertical-align: top;\n",
       "    }\n",
       "\n",
       "    .dataframe thead th {\n",
       "        text-align: right;\n",
       "    }\n",
       "</style>\n",
       "<table border=\"1\" class=\"dataframe\">\n",
       "  <thead>\n",
       "    <tr style=\"text-align: right;\">\n",
       "      <th></th>\n",
       "      <th>pclass</th>\n",
       "      <th>is_female</th>\n",
       "      <th>age</th>\n",
       "      <th>sibsp</th>\n",
       "      <th>parch</th>\n",
       "    </tr>\n",
       "  </thead>\n",
       "  <tbody>\n",
       "    <tr>\n",
       "      <th>0</th>\n",
       "      <td>1</td>\n",
       "      <td>1</td>\n",
       "      <td>29</td>\n",
       "      <td>0</td>\n",
       "      <td>0</td>\n",
       "    </tr>\n",
       "    <tr>\n",
       "      <th>1</th>\n",
       "      <td>1</td>\n",
       "      <td>0</td>\n",
       "      <td>0</td>\n",
       "      <td>1</td>\n",
       "      <td>2</td>\n",
       "    </tr>\n",
       "    <tr>\n",
       "      <th>2</th>\n",
       "      <td>1</td>\n",
       "      <td>1</td>\n",
       "      <td>2</td>\n",
       "      <td>1</td>\n",
       "      <td>2</td>\n",
       "    </tr>\n",
       "    <tr>\n",
       "      <th>3</th>\n",
       "      <td>1</td>\n",
       "      <td>0</td>\n",
       "      <td>30</td>\n",
       "      <td>1</td>\n",
       "      <td>2</td>\n",
       "    </tr>\n",
       "    <tr>\n",
       "      <th>4</th>\n",
       "      <td>1</td>\n",
       "      <td>1</td>\n",
       "      <td>25</td>\n",
       "      <td>1</td>\n",
       "      <td>2</td>\n",
       "    </tr>\n",
       "    <tr>\n",
       "      <th>...</th>\n",
       "      <td>...</td>\n",
       "      <td>...</td>\n",
       "      <td>...</td>\n",
       "      <td>...</td>\n",
       "      <td>...</td>\n",
       "    </tr>\n",
       "    <tr>\n",
       "      <th>1304</th>\n",
       "      <td>3</td>\n",
       "      <td>1</td>\n",
       "      <td>14</td>\n",
       "      <td>1</td>\n",
       "      <td>0</td>\n",
       "    </tr>\n",
       "    <tr>\n",
       "      <th>1305</th>\n",
       "      <td>3</td>\n",
       "      <td>1</td>\n",
       "      <td>9999</td>\n",
       "      <td>1</td>\n",
       "      <td>0</td>\n",
       "    </tr>\n",
       "    <tr>\n",
       "      <th>1306</th>\n",
       "      <td>3</td>\n",
       "      <td>0</td>\n",
       "      <td>26</td>\n",
       "      <td>0</td>\n",
       "      <td>0</td>\n",
       "    </tr>\n",
       "    <tr>\n",
       "      <th>1307</th>\n",
       "      <td>3</td>\n",
       "      <td>0</td>\n",
       "      <td>27</td>\n",
       "      <td>0</td>\n",
       "      <td>0</td>\n",
       "    </tr>\n",
       "    <tr>\n",
       "      <th>1308</th>\n",
       "      <td>3</td>\n",
       "      <td>0</td>\n",
       "      <td>29</td>\n",
       "      <td>0</td>\n",
       "      <td>0</td>\n",
       "    </tr>\n",
       "  </tbody>\n",
       "</table>\n",
       "<p>1309 rows × 5 columns</p>\n",
       "</div>"
      ],
      "text/plain": [
       "      pclass  is_female   age  sibsp  parch\n",
       "0          1          1    29      0      0\n",
       "1          1          0     0      1      2\n",
       "2          1          1     2      1      2\n",
       "3          1          0    30      1      2\n",
       "4          1          1    25      1      2\n",
       "...      ...        ...   ...    ...    ...\n",
       "1304       3          1    14      1      0\n",
       "1305       3          1  9999      1      0\n",
       "1306       3          0    26      0      0\n",
       "1307       3          0    27      0      0\n",
       "1308       3          0    29      0      0\n",
       "\n",
       "[1309 rows x 5 columns]"
      ]
     },
     "execution_count": 248,
     "metadata": {},
     "output_type": "execute_result"
    }
   ],
   "source": [
    "# import train test module\n",
    "from sklearn.model_selection import train_test_split\n",
    "\n",
    "# making the matrices\n",
    "# first one all the rows but not the 'survived column'\n",
    "X = titanic.iloc[:, :-1]\n",
    "X"
   ]
  },
  {
   "cell_type": "code",
   "execution_count": 249,
   "metadata": {},
   "outputs": [
    {
     "data": {
      "text/plain": [
       "0       1\n",
       "1       1\n",
       "2       0\n",
       "3       0\n",
       "4       0\n",
       "       ..\n",
       "1304    0\n",
       "1305    0\n",
       "1306    0\n",
       "1307    0\n",
       "1308    0\n",
       "Name: survived, Length: 1309, dtype: int32"
      ]
     },
     "execution_count": 249,
     "metadata": {},
     "output_type": "execute_result"
    }
   ],
   "source": [
    "# creating the matrice with all rows but only the last column 'survived'\n",
    "y = titanic.iloc[:, -1]\n",
    "y"
   ]
  },
  {
   "cell_type": "code",
   "execution_count": 250,
   "metadata": {},
   "outputs": [],
   "source": [
    "# splitting it 75% train data and 25% test data\n",
    "X_train, X_test, y_train, y_test = train_test_split(X, y, random_state=0, shuffle=True)"
   ]
  },
  {
   "cell_type": "code",
   "execution_count": 251,
   "metadata": {},
   "outputs": [
    {
     "name": "stdout",
     "output_type": "stream",
     "text": [
      "test accuracy: 0.777\n"
     ]
    }
   ],
   "source": [
    "# to overfit the data less, the minimum split has to involve at least 5 examples\n",
    "dt = DecisionTreeClassifier(min_samples_split=5)\n",
    "\n",
    "# training the Decision Tree classifier on the training data\n",
    "dt.fit(X_train, y_train)\n",
    "\n",
    "# calculating the accuracy of the trained model on the test data\n",
    "accuracy = dt.score(X_test, y_test)\n",
    "\n",
    "# printing it\n",
    "print(f\"test accuracy: {accuracy:0.3}\")"
   ]
  },
  {
   "cell_type": "code",
   "execution_count": 252,
   "metadata": {},
   "outputs": [
    {
     "data": {
      "image/png": "[encoded data removed]",
      "text/plain": [
       "<Figure size 576x432 with 1 Axes>"
      ]
     },
     "metadata": {},
     "output_type": "display_data"
    }
   ],
   "source": [
    "# computing the pruning alpha's values\n",
    "path = dt.cost_complexity_pruning_path(X_train, y_train)\n",
    "ccp_alphas, impurites = path.ccp_alphas, path.impurities\n",
    "\n",
    "# importing matplotlib for plots\n",
    "import matplotlib.pyplot as plt\n",
    "\n",
    "# plotting the tree using cross - validation or a validation set\n",
    "fig, ax = plt.subplots(dpi = 90)\n",
    "ax.plot(ccp_alphas[:-1], impurites[:-1], marker = 'o', drawstyle = \"steps-post\")\n",
    "\n",
    "# set labels names\n",
    "ax.set_xlabel(\"effective alpha\")\n",
    "ax.set_ylabel(\"total impurity of leaves\")\n",
    "ax.set_title(\"Total Impurity vs effective alpha\")\n",
    "\n",
    "# show the plot\n",
    "plt.show()"
   ]
  },
  {
   "cell_type": "code",
   "execution_count": 253,
   "metadata": {},
   "outputs": [
    {
     "data": {
      "text/plain": [
       "[[0.0025033458847351364, 0.8048780487804879],\n",
       " [0.005658834025122739, 0.8048780487804879],\n",
       " [0.006444883041891225, 0.8048780487804879],\n",
       " [0.0017471701252237716, 0.801829268292683],\n",
       " [0.0015320858210766469, 0.7987804878048781],\n",
       " [0.0015471830390059345, 0.7987804878048781],\n",
       " [0.0014829167984814918, 0.7957317073170732],\n",
       " [0.000768156221774977, 0.7926829268292683],\n",
       " [0.0007872751321633259, 0.7926829268292683],\n",
       " [0.0007928417714350435, 0.7926829268292683],\n",
       " [0.0015782000873743977, 0.7926829268292683],\n",
       " [0.001763290005397565, 0.7926829268292683],\n",
       " [0.0007666308779737726, 0.7896341463414634],\n",
       " [0.0009174311926605503, 0.7896341463414634],\n",
       " [0.0009174311926605503, 0.7896341463414634],\n",
       " [0.000940765382409104, 0.7896341463414634],\n",
       " [0.0009878792406391227, 0.7896341463414634],\n",
       " [0.001032001184906383, 0.7896341463414634],\n",
       " [0.0010432899418452517, 0.7896341463414634],\n",
       " [0.0010484927916120574, 0.7896341463414634],\n",
       " [0.0008209148423215706, 0.7865853658536586],\n",
       " [0.0008737439930100485, 0.7865853658536586],\n",
       " [0.0013304018589220023, 0.7865853658536586],\n",
       " [0.010235572621321576, 0.7865853658536586],\n",
       " [0.03331157362306619, 0.7865853658536586],\n",
       " [0.001970105176136428, 0.7835365853658537],\n",
       " [0.0021269314270792455, 0.7835365853658537],\n",
       " [0.002129526500913907, 0.7835365853658537],\n",
       " [0.002156685588146752, 0.7835365853658537],\n",
       " [0.0012135333236250668, 0.7804878048780488],\n",
       " [0.0012355975658727952, 0.7804878048780488],\n",
       " [0.0017722363608485639, 0.7804878048780488],\n",
       " [0.0018803153409580903, 0.7804878048780488],\n",
       " [0.0007135575942915395, 0.7774390243902439],\n",
       " [0.0007332296081692502, 0.7774390243902439],\n",
       " [0.13502342931094863, 0.7774390243902439],\n",
       " [0.0006919346368887656, 0.774390243902439],\n",
       " [0.0007048054448666029, 0.774390243902439],\n",
       " [0.0005238252358280009, 0.7713414634146342],\n",
       " [0.0006255679618171639, 0.7713414634146342],\n",
       " [0.0004949105467653533, 0.7682926829268293],\n",
       " [0.0005106687519539886, 0.7682926829268293],\n",
       " [0.0005202516066832828, 0.7682926829268293],\n",
       " [0.0006909049722505383, 0.7682926829268293],\n",
       " [0.0003397893306150185, 0.7652439024390244],\n",
       " [0.00033978933061501893, 0.7652439024390244],\n",
       " [0.00033978933061501893, 0.7652439024390244],\n",
       " [0.0003468682750028319, 0.7652439024390244],\n",
       " [0.00036405999708752053, 0.7652439024390244],\n",
       " [0.0003652735304111452, 0.7652439024390244],\n",
       " [0.0003883306635600219, 0.7652439024390244],\n",
       " [0.000393184796854522, 0.7652439024390244],\n",
       " [0.0004045111078750212, 0.7652439024390244],\n",
       " [0.00042473666326877345, 0.7652439024390244],\n",
       " [0.00044597349643221197, 0.7652439024390244],\n",
       " [0.0004530524408200244, 0.7652439024390244],\n",
       " [0.000453052440820025, 0.7652439024390244],\n",
       " [0.000453052440820025, 0.7652439024390244],\n",
       " [0.00045871559633027525, 0.7652439024390244],\n",
       " [0.00046599679627202595, 0.7652439024390244],\n",
       " [0.0004732779962137759, 0.7652439024390244],\n",
       " [0.000489327953074623, 0.7652439024390244],\n",
       " [8.673617379884035e-19, 0.7621951219512195],\n",
       " [2.427066647250377e-06, 0.7621951219512195],\n",
       " [4.356273469424687e-06, 0.7621951219512195],\n",
       " [4.877358812656156e-06, 0.7621951219512195],\n",
       " [7.687541416629556e-06, 0.7621951219512195],\n",
       " [1.2526795598708992e-05, 0.7621951219512195],\n",
       " [2.9124799767001486e-05, 0.7621951219512195],\n",
       " [3.3978933061501806e-05, 0.7621951219512195],\n",
       " [3.849673127754617e-05, 0.7621951219512195],\n",
       " [6.795786612300361e-05, 0.7621951219512195],\n",
       " [6.795786612300426e-05, 0.7621951219512195],\n",
       " [7.598151400156801e-05, 0.7621951219512195],\n",
       " [0.0001019367991845052, 0.7621951219512195],\n",
       " [0.0001234695163156111, 0.7621951219512195],\n",
       " [0.0001359157322460081, 0.7621951219512195],\n",
       " [0.0001529051987767564, 0.7621951219512195],\n",
       " [0.00016646936963598917, 0.7621951219512195],\n",
       " [0.00016872297796056046, 0.7621951219512195],\n",
       " [0.00016989466530750947, 0.7621951219512195],\n",
       " [0.00017263490184472787, 0.7621951219512195],\n",
       " [0.00018014404839491668, 0.7621951219512195],\n",
       " [0.0001841438953010437, 0.7621951219512195],\n",
       " [0.00021843599825251245, 0.7621951219512195],\n",
       " [0.00021843599825251245, 0.7621951219512195],\n",
       " [0.00021843599825251245, 0.7621951219512195],\n",
       " [0.00027183146449201467, 0.7621951219512195],\n",
       " [0.00027183146449201467, 0.7621951219512195],\n",
       " [0.00027183146449201467, 0.7621951219512195],\n",
       " [0.00027183146449201467, 0.7621951219512195],\n",
       " [0.0002760788311247027, 0.7621951219512195],\n",
       " [0.00030793408086986077, 0.7621951219512195],\n",
       " [0.00032279986408426716, 0.7621951219512195],\n",
       " [0.00032765399737876835, 0.7621951219512195]]"
      ]
     },
     "execution_count": 253,
     "metadata": {},
     "output_type": "execute_result"
    }
   ],
   "source": [
    "# find the best values by validating the experimented alpha on the validation set\n",
    "\n",
    "# creating a list of best prunings\n",
    "best_pruning = list()\n",
    "\n",
    "# looping in the alphas values to find values that are greater than 0 (validation)\n",
    "for ccp_alpha in ccp_alphas:\n",
    "    if ccp_alpha > 0: \n",
    "        # splitting\n",
    "        dt = DecisionTreeClassifier(random_state=0, ccp_alpha=ccp_alpha)\n",
    "        # training\n",
    "        dt.fit(X_train, y_train)\n",
    "        # adding to the list\n",
    "        best_pruning.append([ccp_alpha, dt.score(X_test, y_test)])\n",
    "\n",
    "# sort the list reversed\n",
    "best_pruning = sorted(best_pruning, key = lambda x:x[1], reverse = True)\n",
    "\n",
    "# print the list\n",
    "best_pruning"
   ]
  },
  {
   "cell_type": "code",
   "execution_count": 254,
   "metadata": {},
   "outputs": [
    {
     "name": "stdout",
     "output_type": "stream",
     "text": [
      "test accuracy:  0.805\n",
      "Number of nodes in the last tree is: 13 with ccp_alpha: 0.0025\n"
     ]
    }
   ],
   "source": [
    "# taking the first value and adding to them the best alpha value\n",
    "best_ccp_alpha = best_pruning[0][0]\n",
    "dt = DecisionTreeClassifier(random_state= 0, ccp_alpha = best_ccp_alpha)\n",
    "\n",
    "# train the data\n",
    "dt.fit(X_train, y_train)\n",
    "\n",
    "# calculate the accuracy\n",
    "accuracy = dt.score(X_test, y_test)\n",
    "\n",
    "print(f\"test accuracy: {accuracy: 0.3}\")\n",
    "\n",
    "print(\"Number of nodes in the last tree is: {} with ccp_alpha: {:0.3}\".format(dt.tree_.node_count, best_ccp_alpha))"
   ]
  },
  {
   "cell_type": "code",
   "execution_count": 255,
   "id": "0df478e4",
   "metadata": {},
   "outputs": [
    {
     "data": {
      "text/html": [
       "<div>\n",
       "<style scoped>\n",
       "    .dataframe tbody tr th:only-of-type {\n",
       "        vertical-align: middle;\n",
       "    }\n",
       "\n",
       "    .dataframe tbody tr th {\n",
       "        vertical-align: top;\n",
       "    }\n",
       "\n",
       "    .dataframe thead th {\n",
       "        text-align: right;\n",
       "    }\n",
       "</style>\n",
       "<table border=\"1\" class=\"dataframe\">\n",
       "  <thead>\n",
       "    <tr style=\"text-align: right;\">\n",
       "      <th>play</th>\n",
       "      <th>NO</th>\n",
       "      <th>YES</th>\n",
       "    </tr>\n",
       "    <tr>\n",
       "      <th>outlook</th>\n",
       "      <th></th>\n",
       "      <th></th>\n",
       "    </tr>\n",
       "  </thead>\n",
       "  <tbody>\n",
       "    <tr>\n",
       "      <th>Overcast</th>\n",
       "      <td>0</td>\n",
       "      <td>4</td>\n",
       "    </tr>\n",
       "    <tr>\n",
       "      <th>Rain</th>\n",
       "      <td>2</td>\n",
       "      <td>3</td>\n",
       "    </tr>\n",
       "    <tr>\n",
       "      <th>Sunny</th>\n",
       "      <td>3</td>\n",
       "      <td>2</td>\n",
       "    </tr>\n",
       "  </tbody>\n",
       "</table>\n",
       "</div>"
      ],
      "text/plain": [
       "play      NO  YES\n",
       "outlook          \n",
       "Overcast   0    4\n",
       "Rain       2    3\n",
       "Sunny      3    2"
      ]
     },
     "execution_count": 255,
     "metadata": {},
     "output_type": "execute_result"
    }
   ],
   "source": [
    "# TAKING A PROBABILISTIC TURN - Naive Bayes\n",
    "\n",
    "# connect to the positive and negative answer of whether to play tennis\n",
    "pd.crosstab(tennis.outlook, tennis.play.replace({0: 'NO', 1: 'YES'}))\n"
   ]
  },
  {
   "cell_type": "code",
   "execution_count": 256,
   "id": "4ca80a62",
   "metadata": {},
   "outputs": [
    {
     "data": {
      "text/html": [
       "<div>\n",
       "<style scoped>\n",
       "    .dataframe tbody tr th:only-of-type {\n",
       "        vertical-align: middle;\n",
       "    }\n",
       "\n",
       "    .dataframe tbody tr th {\n",
       "        vertical-align: top;\n",
       "    }\n",
       "\n",
       "    .dataframe thead th {\n",
       "        text-align: right;\n",
       "    }\n",
       "</style>\n",
       "<table border=\"1\" class=\"dataframe\">\n",
       "  <thead>\n",
       "    <tr style=\"text-align: right;\">\n",
       "      <th>play</th>\n",
       "      <th>NO</th>\n",
       "      <th>YES</th>\n",
       "    </tr>\n",
       "    <tr>\n",
       "      <th>outlook</th>\n",
       "      <th></th>\n",
       "      <th></th>\n",
       "    </tr>\n",
       "  </thead>\n",
       "  <tbody>\n",
       "    <tr>\n",
       "      <th>Overcast</th>\n",
       "      <td>0.0</td>\n",
       "      <td>0.444444</td>\n",
       "    </tr>\n",
       "    <tr>\n",
       "      <th>Rain</th>\n",
       "      <td>0.4</td>\n",
       "      <td>0.333333</td>\n",
       "    </tr>\n",
       "    <tr>\n",
       "      <th>Sunny</th>\n",
       "      <td>0.6</td>\n",
       "      <td>0.222222</td>\n",
       "    </tr>\n",
       "  </tbody>\n",
       "</table>\n",
       "</div>"
      ],
      "text/plain": [
       "play       NO       YES\n",
       "outlook                \n",
       "Overcast  0.0  0.444444\n",
       "Rain      0.4  0.333333\n",
       "Sunny     0.6  0.222222"
      ]
     },
     "execution_count": 256,
     "metadata": {},
     "output_type": "execute_result"
    }
   ],
   "source": [
    "# return percentages based on the columns\n",
    "pd.crosstab(tennis.outlook, tennis.play.replace({0: 'NO', 1: 'YES'}), normalize = 'columns')\n",
    "\n"
   ]
  },
  {
   "cell_type": "code",
   "execution_count": 257,
   "id": "cdc723d5",
   "metadata": {},
   "outputs": [
    {
     "data": {
      "text/html": [
       "<div>\n",
       "<style scoped>\n",
       "    .dataframe tbody tr th:only-of-type {\n",
       "        vertical-align: middle;\n",
       "    }\n",
       "\n",
       "    .dataframe tbody tr th {\n",
       "        vertical-align: top;\n",
       "    }\n",
       "\n",
       "    .dataframe thead th {\n",
       "        text-align: right;\n",
       "    }\n",
       "</style>\n",
       "<table border=\"1\" class=\"dataframe\">\n",
       "  <thead>\n",
       "    <tr style=\"text-align: right;\">\n",
       "      <th>play</th>\n",
       "      <th>0</th>\n",
       "      <th>1</th>\n",
       "    </tr>\n",
       "    <tr>\n",
       "      <th>outlook</th>\n",
       "      <th></th>\n",
       "      <th></th>\n",
       "    </tr>\n",
       "  </thead>\n",
       "  <tbody>\n",
       "    <tr>\n",
       "      <th>Overcast</th>\n",
       "      <td>0.0</td>\n",
       "      <td>0.444444</td>\n",
       "    </tr>\n",
       "    <tr>\n",
       "      <th>Rain</th>\n",
       "      <td>0.4</td>\n",
       "      <td>0.333333</td>\n",
       "    </tr>\n",
       "    <tr>\n",
       "      <th>Sunny</th>\n",
       "      <td>0.6</td>\n",
       "      <td>0.222222</td>\n",
       "    </tr>\n",
       "  </tbody>\n",
       "</table>\n",
       "</div>"
      ],
      "text/plain": [
       "play        0         1\n",
       "outlook                \n",
       "Overcast  0.0  0.444444\n",
       "Rain      0.4  0.333333\n",
       "Sunny     0.6  0.222222"
      ]
     },
     "execution_count": 257,
     "metadata": {},
     "output_type": "execute_result"
    }
   ],
   "source": [
    "# show how to get a prediction given certain weather conditions:\n",
    "prob_outcomes = tennis.play.value_counts(sort = False, normalize = True)\n",
    "\n",
    "outlook = pd.crosstab(tennis.outlook, tennis.play, normalize = 'columns')\n",
    "\n",
    "temperature = pd.crosstab(tennis.temperature, tennis.play, normalize = 'columns')\n",
    "\n",
    "humidity = pd.crosstab(tennis.humidity, tennis.play, normalize = 'columns')\n",
    "\n",
    "wind = pd.crosstab(tennis.wind, tennis.play, normalize = 'columns')\n",
    "\n",
    "# show DataFrame outlook\n",
    "outlook"
   ]
  },
  {
   "cell_type": "code",
   "execution_count": 258,
   "id": "c6378c4c",
   "metadata": {},
   "outputs": [
    {
     "data": {
      "text/html": [
       "<div>\n",
       "<style scoped>\n",
       "    .dataframe tbody tr th:only-of-type {\n",
       "        vertical-align: middle;\n",
       "    }\n",
       "\n",
       "    .dataframe tbody tr th {\n",
       "        vertical-align: top;\n",
       "    }\n",
       "\n",
       "    .dataframe thead th {\n",
       "        text-align: right;\n",
       "    }\n",
       "</style>\n",
       "<table border=\"1\" class=\"dataframe\">\n",
       "  <thead>\n",
       "    <tr style=\"text-align: right;\">\n",
       "      <th>play</th>\n",
       "      <th>0</th>\n",
       "      <th>1</th>\n",
       "    </tr>\n",
       "    <tr>\n",
       "      <th>temperature</th>\n",
       "      <th></th>\n",
       "      <th></th>\n",
       "    </tr>\n",
       "  </thead>\n",
       "  <tbody>\n",
       "    <tr>\n",
       "      <th>Cool</th>\n",
       "      <td>0.2</td>\n",
       "      <td>0.333333</td>\n",
       "    </tr>\n",
       "    <tr>\n",
       "      <th>Hot</th>\n",
       "      <td>0.4</td>\n",
       "      <td>0.222222</td>\n",
       "    </tr>\n",
       "    <tr>\n",
       "      <th>Mild</th>\n",
       "      <td>0.4</td>\n",
       "      <td>0.444444</td>\n",
       "    </tr>\n",
       "  </tbody>\n",
       "</table>\n",
       "</div>"
      ],
      "text/plain": [
       "play           0         1\n",
       "temperature               \n",
       "Cool         0.2  0.333333\n",
       "Hot          0.4  0.222222\n",
       "Mild         0.4  0.444444"
      ]
     },
     "execution_count": 258,
     "metadata": {},
     "output_type": "execute_result"
    }
   ],
   "source": [
    "# show DataFrame temperature\n",
    "temperature"
   ]
  },
  {
   "cell_type": "code",
   "execution_count": 259,
   "id": "0d9ef295",
   "metadata": {},
   "outputs": [
    {
     "data": {
      "text/html": [
       "<div>\n",
       "<style scoped>\n",
       "    .dataframe tbody tr th:only-of-type {\n",
       "        vertical-align: middle;\n",
       "    }\n",
       "\n",
       "    .dataframe tbody tr th {\n",
       "        vertical-align: top;\n",
       "    }\n",
       "\n",
       "    .dataframe thead th {\n",
       "        text-align: right;\n",
       "    }\n",
       "</style>\n",
       "<table border=\"1\" class=\"dataframe\">\n",
       "  <thead>\n",
       "    <tr style=\"text-align: right;\">\n",
       "      <th>play</th>\n",
       "      <th>0</th>\n",
       "      <th>1</th>\n",
       "    </tr>\n",
       "    <tr>\n",
       "      <th>humidity</th>\n",
       "      <th></th>\n",
       "      <th></th>\n",
       "    </tr>\n",
       "  </thead>\n",
       "  <tbody>\n",
       "    <tr>\n",
       "      <th>High</th>\n",
       "      <td>0.8</td>\n",
       "      <td>0.333333</td>\n",
       "    </tr>\n",
       "    <tr>\n",
       "      <th>Normal</th>\n",
       "      <td>0.2</td>\n",
       "      <td>0.666667</td>\n",
       "    </tr>\n",
       "  </tbody>\n",
       "</table>\n",
       "</div>"
      ],
      "text/plain": [
       "play        0         1\n",
       "humidity               \n",
       "High      0.8  0.333333\n",
       "Normal    0.2  0.666667"
      ]
     },
     "execution_count": 259,
     "metadata": {},
     "output_type": "execute_result"
    }
   ],
   "source": [
    "# show DataFrame humidity\n",
    "humidity"
   ]
  },
  {
   "cell_type": "code",
   "execution_count": 260,
   "id": "f82c26d1",
   "metadata": {},
   "outputs": [
    {
     "data": {
      "text/html": [
       "<div>\n",
       "<style scoped>\n",
       "    .dataframe tbody tr th:only-of-type {\n",
       "        vertical-align: middle;\n",
       "    }\n",
       "\n",
       "    .dataframe tbody tr th {\n",
       "        vertical-align: top;\n",
       "    }\n",
       "\n",
       "    .dataframe thead th {\n",
       "        text-align: right;\n",
       "    }\n",
       "</style>\n",
       "<table border=\"1\" class=\"dataframe\">\n",
       "  <thead>\n",
       "    <tr style=\"text-align: right;\">\n",
       "      <th>play</th>\n",
       "      <th>0</th>\n",
       "      <th>1</th>\n",
       "    </tr>\n",
       "    <tr>\n",
       "      <th>wind</th>\n",
       "      <th></th>\n",
       "      <th></th>\n",
       "    </tr>\n",
       "  </thead>\n",
       "  <tbody>\n",
       "    <tr>\n",
       "      <th>Strong</th>\n",
       "      <td>0.6</td>\n",
       "      <td>0.333333</td>\n",
       "    </tr>\n",
       "    <tr>\n",
       "      <th>Weak</th>\n",
       "      <td>0.4</td>\n",
       "      <td>0.666667</td>\n",
       "    </tr>\n",
       "  </tbody>\n",
       "</table>\n",
       "</div>"
      ],
      "text/plain": [
       "play      0         1\n",
       "wind                 \n",
       "Strong  0.6  0.333333\n",
       "Weak    0.4  0.666667"
      ]
     },
     "execution_count": 260,
     "metadata": {},
     "output_type": "execute_result"
    }
   ],
   "source": [
    "# show DataFrame wind\n",
    "wind"
   ]
  },
  {
   "cell_type": "code",
   "execution_count": 261,
   "id": "4b4ef975",
   "metadata": {},
   "outputs": [
    {
     "name": "stdout",
     "output_type": "stream",
     "text": [
      "play\n",
      "0    0.006857\n",
      "1    0.028219\n",
      "Name: proportion, dtype: float64\n"
     ]
    }
   ],
   "source": [
    "# make the following prediction: Outlook = Sunny, Temperature = Mild, Humidity = Normal, Wind = Weak\n",
    "\n",
    "# compute the probability for an outcome based on the overall probability, then specify it by multiplying the conditional probabilities\n",
    "proba = prob_outcomes\n",
    "proba *= outlook.loc[\"Sunny\"]\n",
    "proba *= temperature.loc[\"Mild\"]\n",
    "proba *= humidity.loc[\"Normal\"]\n",
    "proba *= wind.loc[\"Weak\"]\n",
    "print(proba)"
   ]
  },
  {
   "cell_type": "code",
   "execution_count": 262,
   "id": "72f527ce",
   "metadata": {},
   "outputs": [
    {
     "name": "stdout",
     "output_type": "stream",
     "text": [
      "      word_freq_make  word_freq_address  word_freq_all  word_freq_3d  \\\n",
      "0               0.00               0.64           0.64           0.0   \n",
      "1               0.21               0.28           0.50           0.0   \n",
      "2               0.06               0.00           0.71           0.0   \n",
      "3               0.00               0.00           0.00           0.0   \n",
      "4               0.00               0.00           0.00           0.0   \n",
      "...              ...                ...            ...           ...   \n",
      "4596            0.31               0.00           0.62           0.0   \n",
      "4597            0.00               0.00           0.00           0.0   \n",
      "4598            0.30               0.00           0.30           0.0   \n",
      "4599            0.96               0.00           0.00           0.0   \n",
      "4600            0.00               0.00           0.65           0.0   \n",
      "\n",
      "      word_freq_our  word_freq_over  word_freq_remove  word_freq_internet  \\\n",
      "0              0.32            0.00              0.00                0.00   \n",
      "1              0.14            0.28              0.21                0.07   \n",
      "2              1.23            0.19              0.19                0.12   \n",
      "3              0.63            0.00              0.31                0.63   \n",
      "4              0.63            0.00              0.31                0.63   \n",
      "...             ...             ...               ...                 ...   \n",
      "4596           0.00            0.31              0.00                0.00   \n",
      "4597           0.00            0.00              0.00                0.00   \n",
      "4598           0.00            0.00              0.00                0.00   \n",
      "4599           0.32            0.00              0.00                0.00   \n",
      "4600           0.00            0.00              0.00                0.00   \n",
      "\n",
      "      word_freq_order  word_freq_mail  ...  word_freq_conference  char_freq_;  \\\n",
      "0                0.00            0.00  ...                   0.0        0.000   \n",
      "1                0.00            0.94  ...                   0.0        0.000   \n",
      "2                0.64            0.25  ...                   0.0        0.010   \n",
      "3                0.31            0.63  ...                   0.0        0.000   \n",
      "4                0.31            0.63  ...                   0.0        0.000   \n",
      "...               ...             ...  ...                   ...          ...   \n",
      "4596             0.00            0.00  ...                   0.0        0.000   \n",
      "4597             0.00            0.00  ...                   0.0        0.000   \n",
      "4598             0.00            0.00  ...                   0.0        0.102   \n",
      "4599             0.00            0.00  ...                   0.0        0.000   \n",
      "4600             0.00            0.00  ...                   0.0        0.000   \n",
      "\n",
      "      char_freq_(  char_freq_[  char_freq_!  char_freq_$  char_freq_#  \\\n",
      "0           0.000          0.0        0.778        0.000        0.000   \n",
      "1           0.132          0.0        0.372        0.180        0.048   \n",
      "2           0.143          0.0        0.276        0.184        0.010   \n",
      "3           0.137          0.0        0.137        0.000        0.000   \n",
      "4           0.135          0.0        0.135        0.000        0.000   \n",
      "...           ...          ...          ...          ...          ...   \n",
      "4596        0.232          0.0        0.000        0.000        0.000   \n",
      "4597        0.000          0.0        0.353        0.000        0.000   \n",
      "4598        0.718          0.0        0.000        0.000        0.000   \n",
      "4599        0.057          0.0        0.000        0.000        0.000   \n",
      "4600        0.000          0.0        0.125        0.000        0.000   \n",
      "\n",
      "      capital_run_length_average  capital_run_length_longest  \\\n",
      "0                          3.756                          61   \n",
      "1                          5.114                         101   \n",
      "2                          9.821                         485   \n",
      "3                          3.537                          40   \n",
      "4                          3.537                          40   \n",
      "...                          ...                         ...   \n",
      "4596                       1.142                           3   \n",
      "4597                       1.555                           4   \n",
      "4598                       1.404                           6   \n",
      "4599                       1.147                           5   \n",
      "4600                       1.250                           5   \n",
      "\n",
      "      capital_run_length_total  \n",
      "0                          278  \n",
      "1                         1028  \n",
      "2                         2259  \n",
      "3                          191  \n",
      "4                          191  \n",
      "...                        ...  \n",
      "4596                        88  \n",
      "4597                        14  \n",
      "4598                       118  \n",
      "4599                        78  \n",
      "4600                        40  \n",
      "\n",
      "[4601 rows x 57 columns]\n"
     ]
    }
   ],
   "source": [
    "# spam detector\n",
    "\n",
    "# download the spam dataset in feather format\n",
    "filename = 'https://github.com/lmassaron/datasets/'\n",
    "filename += 'releases/download/1.0/spam.feather'\n",
    "spam = pd.read_feather(filename)\n",
    "X = spam.iloc[:, :-1] # matrix\n",
    "y = spam.iloc[:, -1] # vector\n",
    "print(X)\n"
   ]
  },
  {
   "cell_type": "code",
   "execution_count": 263,
   "id": "3a5a0ade",
   "metadata": {},
   "outputs": [
    {
     "name": "stdout",
     "output_type": "stream",
     "text": [
      "0       1\n",
      "1       1\n",
      "2       1\n",
      "3       1\n",
      "4       1\n",
      "       ..\n",
      "4596    0\n",
      "4597    0\n",
      "4598    0\n",
      "4599    0\n",
      "4600    0\n",
      "Name: spam, Length: 4601, dtype: int64\n"
     ]
    }
   ],
   "source": [
    "print(y)"
   ]
  },
  {
   "cell_type": "code",
   "execution_count": 264,
   "id": "637d37c2",
   "metadata": {},
   "outputs": [
    {
     "data": {
      "text/html": [
       "<div>\n",
       "<style scoped>\n",
       "    .dataframe tbody tr th:only-of-type {\n",
       "        vertical-align: middle;\n",
       "    }\n",
       "\n",
       "    .dataframe tbody tr th {\n",
       "        vertical-align: top;\n",
       "    }\n",
       "\n",
       "    .dataframe thead th {\n",
       "        text-align: right;\n",
       "    }\n",
       "</style>\n",
       "<table border=\"1\" class=\"dataframe\">\n",
       "  <thead>\n",
       "    <tr style=\"text-align: right;\">\n",
       "      <th></th>\n",
       "      <th>word_freq_make</th>\n",
       "      <th>word_freq_address</th>\n",
       "      <th>word_freq_all</th>\n",
       "      <th>word_freq_3d</th>\n",
       "      <th>word_freq_our</th>\n",
       "      <th>word_freq_over</th>\n",
       "      <th>word_freq_remove</th>\n",
       "      <th>word_freq_internet</th>\n",
       "      <th>word_freq_order</th>\n",
       "      <th>word_freq_mail</th>\n",
       "      <th>...</th>\n",
       "      <th>char_freq_;</th>\n",
       "      <th>char_freq_(</th>\n",
       "      <th>char_freq_[</th>\n",
       "      <th>char_freq_!</th>\n",
       "      <th>char_freq_$</th>\n",
       "      <th>char_freq_#</th>\n",
       "      <th>capital_run_length_average</th>\n",
       "      <th>capital_run_length_longest</th>\n",
       "      <th>capital_run_length_total</th>\n",
       "      <th>spam</th>\n",
       "    </tr>\n",
       "  </thead>\n",
       "  <tbody>\n",
       "    <tr>\n",
       "      <th>0</th>\n",
       "      <td>0.00</td>\n",
       "      <td>0.64</td>\n",
       "      <td>0.64</td>\n",
       "      <td>0.0</td>\n",
       "      <td>0.32</td>\n",
       "      <td>0.00</td>\n",
       "      <td>0.00</td>\n",
       "      <td>0.00</td>\n",
       "      <td>0.00</td>\n",
       "      <td>0.00</td>\n",
       "      <td>...</td>\n",
       "      <td>0.00</td>\n",
       "      <td>0.000</td>\n",
       "      <td>0.0</td>\n",
       "      <td>0.778</td>\n",
       "      <td>0.000</td>\n",
       "      <td>0.000</td>\n",
       "      <td>3.756</td>\n",
       "      <td>61</td>\n",
       "      <td>278</td>\n",
       "      <td>1</td>\n",
       "    </tr>\n",
       "    <tr>\n",
       "      <th>1</th>\n",
       "      <td>0.21</td>\n",
       "      <td>0.28</td>\n",
       "      <td>0.50</td>\n",
       "      <td>0.0</td>\n",
       "      <td>0.14</td>\n",
       "      <td>0.28</td>\n",
       "      <td>0.21</td>\n",
       "      <td>0.07</td>\n",
       "      <td>0.00</td>\n",
       "      <td>0.94</td>\n",
       "      <td>...</td>\n",
       "      <td>0.00</td>\n",
       "      <td>0.132</td>\n",
       "      <td>0.0</td>\n",
       "      <td>0.372</td>\n",
       "      <td>0.180</td>\n",
       "      <td>0.048</td>\n",
       "      <td>5.114</td>\n",
       "      <td>101</td>\n",
       "      <td>1028</td>\n",
       "      <td>1</td>\n",
       "    </tr>\n",
       "    <tr>\n",
       "      <th>2</th>\n",
       "      <td>0.06</td>\n",
       "      <td>0.00</td>\n",
       "      <td>0.71</td>\n",
       "      <td>0.0</td>\n",
       "      <td>1.23</td>\n",
       "      <td>0.19</td>\n",
       "      <td>0.19</td>\n",
       "      <td>0.12</td>\n",
       "      <td>0.64</td>\n",
       "      <td>0.25</td>\n",
       "      <td>...</td>\n",
       "      <td>0.01</td>\n",
       "      <td>0.143</td>\n",
       "      <td>0.0</td>\n",
       "      <td>0.276</td>\n",
       "      <td>0.184</td>\n",
       "      <td>0.010</td>\n",
       "      <td>9.821</td>\n",
       "      <td>485</td>\n",
       "      <td>2259</td>\n",
       "      <td>1</td>\n",
       "    </tr>\n",
       "    <tr>\n",
       "      <th>3</th>\n",
       "      <td>0.00</td>\n",
       "      <td>0.00</td>\n",
       "      <td>0.00</td>\n",
       "      <td>0.0</td>\n",
       "      <td>0.63</td>\n",
       "      <td>0.00</td>\n",
       "      <td>0.31</td>\n",
       "      <td>0.63</td>\n",
       "      <td>0.31</td>\n",
       "      <td>0.63</td>\n",
       "      <td>...</td>\n",
       "      <td>0.00</td>\n",
       "      <td>0.137</td>\n",
       "      <td>0.0</td>\n",
       "      <td>0.137</td>\n",
       "      <td>0.000</td>\n",
       "      <td>0.000</td>\n",
       "      <td>3.537</td>\n",
       "      <td>40</td>\n",
       "      <td>191</td>\n",
       "      <td>1</td>\n",
       "    </tr>\n",
       "    <tr>\n",
       "      <th>4</th>\n",
       "      <td>0.00</td>\n",
       "      <td>0.00</td>\n",
       "      <td>0.00</td>\n",
       "      <td>0.0</td>\n",
       "      <td>0.63</td>\n",
       "      <td>0.00</td>\n",
       "      <td>0.31</td>\n",
       "      <td>0.63</td>\n",
       "      <td>0.31</td>\n",
       "      <td>0.63</td>\n",
       "      <td>...</td>\n",
       "      <td>0.00</td>\n",
       "      <td>0.135</td>\n",
       "      <td>0.0</td>\n",
       "      <td>0.135</td>\n",
       "      <td>0.000</td>\n",
       "      <td>0.000</td>\n",
       "      <td>3.537</td>\n",
       "      <td>40</td>\n",
       "      <td>191</td>\n",
       "      <td>1</td>\n",
       "    </tr>\n",
       "  </tbody>\n",
       "</table>\n",
       "<p>5 rows × 58 columns</p>\n",
       "</div>"
      ],
      "text/plain": [
       "   word_freq_make  word_freq_address  word_freq_all  word_freq_3d  \\\n",
       "0            0.00               0.64           0.64           0.0   \n",
       "1            0.21               0.28           0.50           0.0   \n",
       "2            0.06               0.00           0.71           0.0   \n",
       "3            0.00               0.00           0.00           0.0   \n",
       "4            0.00               0.00           0.00           0.0   \n",
       "\n",
       "   word_freq_our  word_freq_over  word_freq_remove  word_freq_internet  \\\n",
       "0           0.32            0.00              0.00                0.00   \n",
       "1           0.14            0.28              0.21                0.07   \n",
       "2           1.23            0.19              0.19                0.12   \n",
       "3           0.63            0.00              0.31                0.63   \n",
       "4           0.63            0.00              0.31                0.63   \n",
       "\n",
       "   word_freq_order  word_freq_mail  ...  char_freq_;  char_freq_(  \\\n",
       "0             0.00            0.00  ...         0.00        0.000   \n",
       "1             0.00            0.94  ...         0.00        0.132   \n",
       "2             0.64            0.25  ...         0.01        0.143   \n",
       "3             0.31            0.63  ...         0.00        0.137   \n",
       "4             0.31            0.63  ...         0.00        0.135   \n",
       "\n",
       "   char_freq_[  char_freq_!  char_freq_$  char_freq_#  \\\n",
       "0          0.0        0.778        0.000        0.000   \n",
       "1          0.0        0.372        0.180        0.048   \n",
       "2          0.0        0.276        0.184        0.010   \n",
       "3          0.0        0.137        0.000        0.000   \n",
       "4          0.0        0.135        0.000        0.000   \n",
       "\n",
       "   capital_run_length_average  capital_run_length_longest  \\\n",
       "0                       3.756                          61   \n",
       "1                       5.114                         101   \n",
       "2                       9.821                         485   \n",
       "3                       3.537                          40   \n",
       "4                       3.537                          40   \n",
       "\n",
       "   capital_run_length_total  spam  \n",
       "0                       278     1  \n",
       "1                      1028     1  \n",
       "2                      2259     1  \n",
       "3                       191     1  \n",
       "4                       191     1  \n",
       "\n",
       "[5 rows x 58 columns]"
      ]
     },
     "execution_count": 264,
     "metadata": {},
     "output_type": "execute_result"
    }
   ],
   "source": [
    "spam.head(5)"
   ]
  },
  {
   "cell_type": "code",
   "execution_count": 265,
   "id": "7d0d0f6e",
   "metadata": {},
   "outputs": [
    {
     "data": {
      "text/plain": [
       "array([1, 1, 1, ..., 0, 0, 0])"
      ]
     },
     "execution_count": 265,
     "metadata": {},
     "output_type": "execute_result"
    }
   ],
   "source": [
    "# applying a Naive Bayes\n",
    "from sklearn.model_selection import cross_val_predict\n",
    "from sklearn.naive_bayes import BernoulliNB\n",
    "\n",
    "nb = BernoulliNB()\n",
    "\n",
    "preds = cross_val_predict(nb, X, y, cv = 5, n_jobs = -1) # n_jobs for using all the cores\n",
    "\n",
    "preds"
   ]
  },
  {
   "cell_type": "code",
   "execution_count": 266,
   "id": "0f31e028",
   "metadata": {},
   "outputs": [
    {
     "name": "stdout",
     "output_type": "stream",
     "text": [
      "              precision    recall  f1-score   support\n",
      "\n",
      "    non spam       0.89      0.92      0.90      2788\n",
      "        spam       0.87      0.82      0.84      1813\n",
      "\n",
      "    accuracy                           0.88      4601\n",
      "   macro avg       0.88      0.87      0.87      4601\n",
      "weighted avg       0.88      0.88      0.88      4601\n",
      "\n"
     ]
    }
   ],
   "source": [
    "# evaluate the cross - validation predictions using the classification_report comand (using the error measures)\n",
    "from sklearn.metrics import classification_report\n",
    "\n",
    "cr = classification_report(y_true = y, y_pred = preds, target_names = ['non spam', 'spam'])\n",
    "\n",
    "print(cr)"
   ]
  },
  {
   "cell_type": "markdown",
   "id": "181efb25",
   "metadata": {},
   "source": [
    "<span style=\"font-size: 30px\"> Part 4: </span> <span style=\"font-size: 30px; color: green\"> Learning from Smart and Big Data</span>"
   ]
  },
  {
   "cell_type": "markdown",
   "id": "e56d7457",
   "metadata": {},
   "source": [
    "<span style=\"font-size: 20px\"> Chapter 11: </span> <span style=\"font-size: 20px; color: skyblue\"> Preprocessing Data</span>"
   ]
  },
  {
   "cell_type": "code",
   "execution_count": 267,
   "id": "6b945696",
   "metadata": {},
   "outputs": [
    {
     "name": "stdout",
     "output_type": "stream",
     "text": [
      "     A    B    C\n",
      "0  1.0  2.0  NaN\n",
      "1  NaN  2.0  NaN\n",
      "2  3.0  NaN  NaN\n",
      "3  NaN  3.0  8.0\n",
      "4  5.0  3.0  NaN \n",
      "\n",
      "A    2\n",
      "B    1\n",
      "C    4\n",
      "dtype: int64\n"
     ]
    }
   ],
   "source": [
    "# REPAIRING MISSING DATA\n",
    "\n",
    "# choosing the right replacement strategy\n",
    "import pandas as pd \n",
    "import numpy as np \n",
    "\n",
    "# creating a dataset of 5 observations and 3 features\n",
    "data = pd.DataFrame([[1, 2, np.nan], [np.nan, 2, np.nan], [3, np.nan, np.nan], [np.nan, 3, 8], [5, 3, np.nan]], columns = ['A', 'B', 'C'])\n",
    "\n",
    "# prints the data\n",
    "print(data, '\\n')\n",
    "\n",
    "# counts NaN values for each feature\n",
    "print(data.isnull().sum(axis = 0))"
   ]
  },
  {
   "cell_type": "code",
   "execution_count": 268,
   "id": "569232ab",
   "metadata": {},
   "outputs": [
    {
     "name": "stdout",
     "output_type": "stream",
     "text": [
      "     A    B  missing_B\n",
      "0  1.0  2.0          0\n",
      "1  2.0  2.0          0\n",
      "2  3.0  2.5          1\n",
      "3  4.0  3.0          0\n",
      "4  5.0  3.0          0\n"
     ]
    }
   ],
   "source": [
    "# drops definitely C from the dataset because it has only one valid value\n",
    "data.drop('C', axis = 1, inplace = True)\n",
    "\n",
    "# creates a placeholder for B's missing values\n",
    "data['missing_B'] = data['B'].isnull().astype(int)  \n",
    "\n",
    "# fills missing items in B using B's average\n",
    "data['B'].fillna(data['B'].mean(), inplace = True)\n",
    "\n",
    "# interpolates A\n",
    "data['A'].interpolate(method = 'linear', inplace = True)\n",
    "print(data)"
   ]
  }
 ],
 "metadata": {
  "kernelspec": {
   "display_name": "Python 3",
   "language": "python",
   "name": "python3"
  },
  "language_info": {
   "codemirror_mode": {
    "name": "ipython",
    "version": 3
   },
   "file_extension": ".py",
   "mimetype": "text/x-python",
   "name": "python",
   "nbconvert_exporter": "python",
   "pygments_lexer": "ipython3",
   "version": "3.10.13"
  }
 },
 "nbformat": 4,
 "nbformat_minor": 5
}
