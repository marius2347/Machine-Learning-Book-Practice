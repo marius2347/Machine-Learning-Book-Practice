{
 "cells": [
  {
   "cell_type": "markdown",
   "metadata": {},
   "source": [
    "<span style=\"font-size: 45px\"> Machine Learning </span> <span style=\"font-size: 25px; color: yellow\"> for Dummies</span>"
   ]
  },
  {
   "cell_type": "markdown",
   "metadata": {},
   "source": [
    "<span style=\"font-size: 30px\"> Part 2: </span> <span style=\"font-size: 30px; color: green\"> Preparing Your Learning Tools</span>"
   ]
  },
  {
   "cell_type": "markdown",
   "metadata": {},
   "source": [
    "<span style=\"font-size: 20px\"> Chapter 4: </span> <span style=\"font-size: 20px; color: skyblue\"> Installing a Python Distribution </span>"
   ]
  },
  {
   "cell_type": "code",
   "execution_count": 56,
   "metadata": {},
   "outputs": [
    {
     "name": "stdout",
     "output_type": "stream",
     "text": [
      "       Month  Passengers\n",
      "0    1949-01         112\n",
      "1    1949-02         118\n",
      "2    1949-03         132\n",
      "3    1949-04         129\n",
      "4    1949-05         121\n",
      "..       ...         ...\n",
      "139  1960-08         606\n",
      "140  1960-09         508\n",
      "141  1960-10         461\n",
      "142  1960-11         390\n",
      "143  1960-12         432\n",
      "\n",
      "[144 rows x 2 columns]\n"
     ]
    }
   ],
   "source": [
    "# libraries\n",
    "import pyarrow.feather as feather # read from file\n",
    "\n",
    "# read from file\n",
    "read_df = feather.read_feather('./datasets-master/air_passengers.feather')\n",
    "\n",
    "# print it\n",
    "print(read_df)"
   ]
  },
  {
   "cell_type": "code",
   "execution_count": 57,
   "metadata": {},
   "outputs": [
    {
     "data": {
      "text/html": [
       "<div>\n",
       "<style scoped>\n",
       "    .dataframe tbody tr th:only-of-type {\n",
       "        vertical-align: middle;\n",
       "    }\n",
       "\n",
       "    .dataframe tbody tr th {\n",
       "        vertical-align: top;\n",
       "    }\n",
       "\n",
       "    .dataframe thead th {\n",
       "        text-align: right;\n",
       "    }\n",
       "</style>\n",
       "<table border=\"1\" class=\"dataframe\">\n",
       "  <thead>\n",
       "    <tr style=\"text-align: right;\">\n",
       "      <th></th>\n",
       "      <th>Month</th>\n",
       "      <th>Passengers</th>\n",
       "    </tr>\n",
       "  </thead>\n",
       "  <tbody>\n",
       "    <tr>\n",
       "      <th>0</th>\n",
       "      <td>1949-01</td>\n",
       "      <td>112</td>\n",
       "    </tr>\n",
       "    <tr>\n",
       "      <th>1</th>\n",
       "      <td>1949-02</td>\n",
       "      <td>118</td>\n",
       "    </tr>\n",
       "    <tr>\n",
       "      <th>2</th>\n",
       "      <td>1949-03</td>\n",
       "      <td>132</td>\n",
       "    </tr>\n",
       "    <tr>\n",
       "      <th>3</th>\n",
       "      <td>1949-04</td>\n",
       "      <td>129</td>\n",
       "    </tr>\n",
       "    <tr>\n",
       "      <th>4</th>\n",
       "      <td>1949-05</td>\n",
       "      <td>121</td>\n",
       "    </tr>\n",
       "    <tr>\n",
       "      <th>...</th>\n",
       "      <td>...</td>\n",
       "      <td>...</td>\n",
       "    </tr>\n",
       "    <tr>\n",
       "      <th>139</th>\n",
       "      <td>1960-08</td>\n",
       "      <td>606</td>\n",
       "    </tr>\n",
       "    <tr>\n",
       "      <th>140</th>\n",
       "      <td>1960-09</td>\n",
       "      <td>508</td>\n",
       "    </tr>\n",
       "    <tr>\n",
       "      <th>141</th>\n",
       "      <td>1960-10</td>\n",
       "      <td>461</td>\n",
       "    </tr>\n",
       "    <tr>\n",
       "      <th>142</th>\n",
       "      <td>1960-11</td>\n",
       "      <td>390</td>\n",
       "    </tr>\n",
       "    <tr>\n",
       "      <th>143</th>\n",
       "      <td>1960-12</td>\n",
       "      <td>432</td>\n",
       "    </tr>\n",
       "  </tbody>\n",
       "</table>\n",
       "<p>144 rows × 2 columns</p>\n",
       "</div>"
      ],
      "text/plain": [
       "       Month  Passengers\n",
       "0    1949-01         112\n",
       "1    1949-02         118\n",
       "2    1949-03         132\n",
       "3    1949-04         129\n",
       "4    1949-05         121\n",
       "..       ...         ...\n",
       "139  1960-08         606\n",
       "140  1960-09         508\n",
       "141  1960-10         461\n",
       "142  1960-11         390\n",
       "143  1960-12         432\n",
       "\n",
       "[144 rows x 2 columns]"
      ]
     },
     "execution_count": 57,
     "metadata": {},
     "output_type": "execute_result"
    }
   ],
   "source": [
    "# show DataFrame\n",
    "read_df"
   ]
  },
  {
   "cell_type": "markdown",
   "metadata": {},
   "source": [
    "<span style=\"font-size: 20px\"> Chapter 5: </span> <span style=\"font-size: 20px; color: skyblue\"> Beyond Basic Coding in Python </span>"
   ]
  },
  {
   "cell_type": "code",
   "execution_count": 58,
   "metadata": {},
   "outputs": [
    {
     "data": {
      "text/plain": [
       "'Hello There!'"
      ]
     },
     "execution_count": 58,
     "metadata": {},
     "output_type": "execute_result"
    }
   ],
   "source": [
    "# WORKING WITH FUNCTIONS - CREATING REUSABLE FUNCTION\n",
    "\n",
    "\n",
    "# defining a function\n",
    "def sayHello():\n",
    "    return \"Hello There!\"\n",
    "\n",
    "# CALLING FUNCTIONS\n",
    "sayHello()"
   ]
  },
  {
   "cell_type": "code",
   "execution_count": 59,
   "metadata": {},
   "outputs": [
    {
     "data": {
      "text/plain": [
       "3"
      ]
     },
     "execution_count": 59,
     "metadata": {},
     "output_type": "execute_result"
    }
   ],
   "source": [
    "# DEFINING A FUNCTION WITH PARAMETERS\n",
    "\n",
    "def DoSum(Value1, Value2):\n",
    "    return Value1 + Value2\n",
    "\n",
    "# calling the fuction with integers\n",
    "DoSum(1, 2)"
   ]
  },
  {
   "cell_type": "code",
   "execution_count": 60,
   "metadata": {},
   "outputs": [
    {
     "name": "stdout",
     "output_type": "stream",
     "text": [
      "2 + 3 = 5\n"
     ]
    }
   ],
   "source": [
    "# DEFINING FUCTION WITH PARAMETERS AND CALLING IT WITH KEYWORDS (SEDING ARGUMENTS BY KEYWORD)\n",
    "\n",
    "def DisplaySum(Value1, Value2):\n",
    "    print(str(Value1) + ' + ' + str(Value2) + ' = ' + str((Value1 + Value2)))\n",
    "\n",
    "# first testing it with positional arguments\n",
    "DisplaySum(2, 3)"
   ]
  },
  {
   "cell_type": "code",
   "execution_count": 61,
   "metadata": {},
   "outputs": [
    {
     "name": "stdout",
     "output_type": "stream",
     "text": [
      "2 + 3 = 5\n"
     ]
    }
   ],
   "source": [
    "# now with keywords\n",
    "DisplaySum(Value2 = 3, Value1= 2)"
   ]
  },
  {
   "cell_type": "code",
   "execution_count": 62,
   "metadata": {},
   "outputs": [
    {
     "name": "stdout",
     "output_type": "stream",
     "text": [
      "No Value Supplied\n"
     ]
    }
   ],
   "source": [
    "# GIVING FUNCTION ARGUMENTS A DEFAULT VALUE\n",
    "\n",
    "def SayHello(Greeting = \"No Value Supplied\"):\n",
    "    print(Greeting)\n",
    "\n",
    "# calling the function without a value\n",
    "SayHello()"
   ]
  },
  {
   "cell_type": "code",
   "execution_count": 63,
   "metadata": {},
   "outputs": [
    {
     "name": "stdout",
     "output_type": "stream",
     "text": [
      "Howdy!\n"
     ]
    }
   ],
   "source": [
    "# calling the fuction with a value\n",
    "SayHello(\"Howdy!\")"
   ]
  },
  {
   "cell_type": "code",
   "execution_count": 64,
   "metadata": {},
   "outputs": [
    {
     "name": "stdout",
     "output_type": "stream",
     "text": [
      "You passed 0 arguments. ()\n"
     ]
    }
   ],
   "source": [
    "# CREATING FUNCTIONS WITH A VARIABLE NUMBER OF ARGUMENTS\n",
    "\n",
    "def DisplayMulti(ArgCount = 0, *VarArgs):\n",
    "    print('You passed ' + str(ArgCount) + ' arguments.', VarArgs)\n",
    "\n",
    "# call the function\n",
    "DisplayMulti()"
   ]
  },
  {
   "cell_type": "code",
   "execution_count": 65,
   "metadata": {},
   "outputs": [
    {
     "name": "stdout",
     "output_type": "stream",
     "text": [
      "You passed 3 arguments. ('Hello', 1, True)\n"
     ]
    }
   ],
   "source": [
    "# call the function with arguments\n",
    "DisplayMulti(3, 'Hello', 1, True)"
   ]
  },
  {
   "cell_type": "code",
   "execution_count": 66,
   "metadata": {},
   "outputs": [
    {
     "data": {
      "text/plain": [
       "'/home/marius/Desktop/PYTHON Projects/Machine-Learning-for-Dummies-Book-Practice'"
      ]
     },
     "execution_count": 66,
     "metadata": {},
     "output_type": "execute_result"
    }
   ],
   "source": [
    "# WORKING WITH MODULES\n",
    "\n",
    "import os # working with files\n",
    "os.getcwd() # current directory\n",
    "\n",
    "# os.chdir('new_path') # change the directory so that Python looks in\n",
    "\n",
    "# os.environ['PYTHONPATH'] # determine where Python looks for modules"
   ]
  },
  {
   "cell_type": "code",
   "execution_count": 67,
   "metadata": {},
   "outputs": [
    {
     "name": "stdout",
     "output_type": "stream",
     "text": [
      "{'Red', 'Yellow', 'Orange', 'Blue', 'Green', 'Black'}\n",
      "{'Green', 'Black'}\n",
      "{'Red', 'Blue'}\n"
     ]
    }
   ],
   "source": [
    "# STORING DATA USING SETS, LISTS AND TUPLES\n",
    "\n",
    "# SETS\n",
    "\n",
    "SetA = set(['Red', 'Blue', 'Green', 'Black'])\n",
    "SetB = set(['Black', 'Green', 'Yellow', 'Orange'])\n",
    "\n",
    "# operations\n",
    "SetX = SetA.union(SetB) # union A U B\n",
    "SetY = SetA.intersection(SetB) # intersection\n",
    "SetZ = SetA.difference(SetB) # A - B\n",
    "\n",
    "# printing\n",
    "print('{0}\\n{1}\\n{2}'.format(SetX, SetY, SetZ))"
   ]
  },
  {
   "cell_type": "code",
   "execution_count": 68,
   "metadata": {},
   "outputs": [
    {
     "name": "stdout",
     "output_type": "stream",
     "text": [
      "True\n"
     ]
    }
   ],
   "source": [
    "# superset True of False (boolean)\n",
    "print(SetA.issuperset(SetY))"
   ]
  },
  {
   "cell_type": "code",
   "execution_count": 69,
   "metadata": {},
   "outputs": [
    {
     "name": "stdout",
     "output_type": "stream",
     "text": [
      "True\n"
     ]
    }
   ],
   "source": [
    "# subset True or False (boolean)\n",
    "print(SetA.issubset(SetX))"
   ]
  },
  {
   "cell_type": "code",
   "execution_count": 70,
   "metadata": {},
   "outputs": [],
   "source": [
    "# add element in Set\n",
    "SetA.add('Purple')"
   ]
  },
  {
   "cell_type": "code",
   "execution_count": 71,
   "metadata": {},
   "outputs": [
    {
     "name": "stdout",
     "output_type": "stream",
     "text": [
      "False\n"
     ]
    }
   ],
   "source": [
    "# verify subset condition\n",
    "print(SetA.issubset(SetX))"
   ]
  },
  {
   "cell_type": "code",
   "execution_count": 72,
   "metadata": {},
   "outputs": [
    {
     "name": "stdout",
     "output_type": "stream",
     "text": [
      "[0, 1, 2, 3, 4, 5, 6, 7]\n"
     ]
    }
   ],
   "source": [
    "# LISTS\n",
    "\n",
    "# defining a list\n",
    "ListA = [0, 1, 2, 3]\n",
    "ListB = [4, 5, 6, 7]\n",
    "\n",
    "# combined them\n",
    "ListA.extend(ListB)\n",
    "\n",
    "# print the list\n",
    "print(ListA)"
   ]
  },
  {
   "cell_type": "code",
   "execution_count": 73,
   "metadata": {},
   "outputs": [
    {
     "name": "stdout",
     "output_type": "stream",
     "text": [
      "[0, 1, 2, 3, 4, 5, 6, 7, -5]\n"
     ]
    }
   ],
   "source": [
    "# add value to list\n",
    "ListA.append(-5)\n",
    "print(ListA)"
   ]
  },
  {
   "cell_type": "code",
   "execution_count": 74,
   "metadata": {},
   "outputs": [
    {
     "name": "stdout",
     "output_type": "stream",
     "text": [
      "[0, 1, 2, 3, 4, 5, 6, 7]\n"
     ]
    }
   ],
   "source": [
    "# remove value from list\n",
    "ListA.remove(-5)\n",
    "print(ListA)"
   ]
  },
  {
   "cell_type": "code",
   "execution_count": 75,
   "metadata": {},
   "outputs": [
    {
     "name": "stdout",
     "output_type": "stream",
     "text": [
      "[0, 1, 2, 3, 4, 5, 6, 7, 4, 5, 6, 7]\n"
     ]
    }
   ],
   "source": [
    "# combining lists using concatenation\n",
    "ListX = ListA + ListB\n",
    "\n",
    "# print the combined list\n",
    "print(ListX)"
   ]
  },
  {
   "cell_type": "code",
   "execution_count": 76,
   "metadata": {},
   "outputs": [
    {
     "name": "stdout",
     "output_type": "stream",
     "text": [
      "['H', 'E', 'L', 'L', 'O']\n"
     ]
    }
   ],
   "source": [
    "# constructing lists using comprehensions\n",
    "Letters = [letter.upper() for letter in 'Hello']\n",
    "\n",
    "# print a list of letters in UpperCase\n",
    "print(Letters)"
   ]
  },
  {
   "cell_type": "code",
   "execution_count": 77,
   "metadata": {},
   "outputs": [
    {
     "name": "stdout",
     "output_type": "stream",
     "text": [
      "1\n",
      "2\n",
      "3\n",
      "\t 4\n",
      "\t 5\n",
      "\t 6\n",
      "\t\t 7\n",
      "\t\t 8\n",
      "\t\t 9\n"
     ]
    }
   ],
   "source": [
    "# TUPLES\n",
    "\n",
    "MyTuple = (1, 2, 3, (4, 5, 6, (7, 8, 9)))\n",
    "\n",
    "# how does the nesting works\n",
    "for Value1 in MyTuple:\n",
    "    if type(Value1) == int:\n",
    "        print(Value1)\n",
    "    else:\n",
    "        for Value2 in Value1:\n",
    "            if type(Value2) == int:\n",
    "                print('\\t', Value2)\n",
    "            else:\n",
    "                for Value3 in Value2:\n",
    "                    print('\\t\\t', Value3)"
   ]
  },
  {
   "cell_type": "code",
   "execution_count": 78,
   "metadata": {},
   "outputs": [
    {
     "name": "stdout",
     "output_type": "stream",
     "text": [
      "(1, 2, 3, (4, 5, 6, (7, 8, 9)), 10, 11, 12, (13, 14, 15))\n"
     ]
    }
   ],
   "source": [
    "# adding new values\n",
    "MyNewTuple = MyTuple.__add__((10, 11, 12, (13, 14, 15)))\n",
    "\n",
    "# print the new tuple\n",
    "print(MyNewTuple)"
   ]
  },
  {
   "cell_type": "code",
   "execution_count": 79,
   "metadata": {},
   "outputs": [
    {
     "name": "stdout",
     "output_type": "stream",
     "text": [
      "Yellow\n"
     ]
    }
   ],
   "source": [
    "# DEFINING USEFUL ITERATORS\n",
    "\n",
    "ListA = ['Orange', 'Yellow', 'Green', 'Brown']\n",
    "ListB = [1, 2, 3, 4]\n",
    "\n",
    "# print the secondest color\n",
    "print(ListA[1])\n"
   ]
  },
  {
   "cell_type": "code",
   "execution_count": 80,
   "metadata": {},
   "outputs": [
    {
     "name": "stdout",
     "output_type": "stream",
     "text": [
      "[2, 3]\n"
     ]
    }
   ],
   "source": [
    "# WORKING WITH RANGES\n",
    "\n",
    "# slicing\n",
    "print(ListB[1:3])"
   ]
  },
  {
   "cell_type": "code",
   "execution_count": 81,
   "metadata": {},
   "outputs": [
    {
     "name": "stdout",
     "output_type": "stream",
     "text": [
      "2\n",
      "3\n"
     ]
    }
   ],
   "source": [
    "# for loop\n",
    "for Value in ListB[1: 3]:\n",
    "    print(Value)"
   ]
  },
  {
   "cell_type": "code",
   "execution_count": 82,
   "metadata": {},
   "outputs": [
    {
     "name": "stdout",
     "output_type": "stream",
     "text": [
      "[1, 2, 3]\n"
     ]
    }
   ],
   "source": [
    "# print first 3 values\n",
    "print(ListB[:3])"
   ]
  },
  {
   "cell_type": "code",
   "execution_count": 83,
   "metadata": {},
   "outputs": [
    {
     "name": "stdout",
     "output_type": "stream",
     "text": [
      "Orange \t 1\n",
      "Yellow \t 2\n",
      "Green \t 3\n",
      "Brown \t 4\n"
     ]
    }
   ],
   "source": [
    "# ITERATING MULTIPLE LISTS USING ZIP\n",
    "\n",
    "# process two lists in parallel\n",
    "for Value1, Value2 in zip(ListA, ListB):\n",
    "    print(Value1, '\\t', Value2)"
   ]
  },
  {
   "cell_type": "code",
   "execution_count": 84,
   "metadata": {},
   "outputs": [
    {
     "name": "stdout",
     "output_type": "stream",
     "text": [
      "H\n",
      "E\n",
      "L\n",
      "L\n",
      "O\n"
     ]
    }
   ],
   "source": [
    "# WORKING WITH GENERATORS USING YIELD\n",
    "\n",
    "def MyLetter():\n",
    "    for Letter in Letters:\n",
    "        yield Letter\n",
    "\n",
    "# creating the Letters list\n",
    "Letters = [letter.upper() for letter in 'Hello']\n",
    "\n",
    "# create the object\n",
    "ListIt = MyLetter()\n",
    "\n",
    "# printing the object\n",
    "print(next(ListIt))\n",
    "print(next(ListIt))\n",
    "print(next(ListIt))\n",
    "print(next(ListIt))\n",
    "print(next(ListIt))\n"
   ]
  },
  {
   "cell_type": "code",
   "execution_count": 85,
   "metadata": {},
   "outputs": [
    {
     "name": "stdout",
     "output_type": "stream",
     "text": [
      "3\n"
     ]
    }
   ],
   "source": [
    "# DICTIONARIES\n",
    "\n",
    "MyDict = {'Orange': 1, 'Blue': 2, 'Pink': 3}\n",
    "\n",
    "# storing and retrieving data \n",
    "print(MyDict['Pink'])"
   ]
  },
  {
   "cell_type": "code",
   "execution_count": 86,
   "metadata": {},
   "outputs": [
    {
     "name": "stdout",
     "output_type": "stream",
     "text": [
      "dict_keys(['Orange', 'Blue', 'Pink'])\n"
     ]
    }
   ],
   "source": [
    "# see the keys\n",
    "print(MyDict.keys())"
   ]
  },
  {
   "cell_type": "code",
   "execution_count": 87,
   "metadata": {},
   "outputs": [
    {
     "name": "stdout",
     "output_type": "stream",
     "text": [
      "dict_values([1, 2, 3])\n"
     ]
    }
   ],
   "source": [
    "# see the values\n",
    "print(MyDict.values())"
   ]
  },
  {
   "cell_type": "markdown",
   "metadata": {},
   "source": [
    "<span style=\"font-size: 30px\"> Part 3: </span> <span style=\"font-size: 30px; color: green\"> Getting Started with the Math Basics</span>"
   ]
  },
  {
   "cell_type": "markdown",
   "metadata": {},
   "source": [
    "<span style=\"font-size: 20px\"> Chapter 7: </span> <span style=\"font-size: 20px; color: skyblue\"> Demystifying the Math Behind Machine Learning </span>"
   ]
  },
  {
   "cell_type": "code",
   "execution_count": 88,
   "metadata": {},
   "outputs": [
    {
     "name": "stdout",
     "output_type": "stream",
     "text": [
      "15 \n",
      "\n"
     ]
    }
   ],
   "source": [
    "# UNDERSTANDING SCALAR AND VECTOR OPERATIONS\n",
    "\n",
    "# NumPy Library\n",
    "import numpy as np\n",
    "\n",
    "# 16 bit long value\n",
    "myShort = np.short(15)\n",
    "print(myShort, '\\n')"
   ]
  },
  {
   "cell_type": "code",
   "execution_count": 89,
   "metadata": {},
   "outputs": [
    {
     "name": "stdout",
     "output_type": "stream",
     "text": [
      "[1 3 5 7 9] \n",
      "\n"
     ]
    }
   ],
   "source": [
    "# creating a vector normally\n",
    "myVect = np.array([1, 3, 5, 7, 9])\n",
    "print(myVect, '\\n')"
   ]
  },
  {
   "cell_type": "code",
   "execution_count": 90,
   "metadata": {},
   "outputs": [
    {
     "name": "stdout",
     "output_type": "stream",
     "text": [
      "[1 3 5 7 9] \n",
      "\n"
     ]
    }
   ],
   "source": [
    "# arange\n",
    "myVect = np.arange(1, 10, 2)\n",
    "print(myVect, '\\n')"
   ]
  },
  {
   "cell_type": "code",
   "execution_count": 91,
   "metadata": {},
   "outputs": [
    {
     "name": "stdout",
     "output_type": "stream",
     "text": [
      "[1 2 3 4] \n",
      "\n"
     ]
    }
   ],
   "source": [
    "# specifying the data\n",
    "myVect = np.array(np.int16([1.4, 2, 3, 4]))\n",
    "print(myVect, '\\n')"
   ]
  },
  {
   "cell_type": "code",
   "execution_count": 92,
   "metadata": {},
   "outputs": [
    {
     "name": "stdout",
     "output_type": "stream",
     "text": [
      "[1. 1. 1. 1.] \n",
      "\n"
     ]
    }
   ],
   "source": [
    "# fill the vector with ones\n",
    "myVect = np.ones(4)\n",
    "print(myVect, '\\n')"
   ]
  },
  {
   "cell_type": "code",
   "execution_count": 93,
   "metadata": {},
   "outputs": [
    {
     "name": "stdout",
     "output_type": "stream",
     "text": [
      "[0. 0. 0. 0.] \n",
      "\n"
     ]
    }
   ],
   "source": [
    "# fill the vector with ones\n",
    "myVect = np.zeros(4)\n",
    "print(myVect, '\\n')"
   ]
  },
  {
   "cell_type": "code",
   "execution_count": 94,
   "metadata": {},
   "outputs": [
    {
     "name": "stdout",
     "output_type": "stream",
     "text": [
      "[2 3 4 5] \n",
      "\n"
     ]
    }
   ],
   "source": [
    "# MATH FUNCTIONS\n",
    "\n",
    "myVect = np.array([1, 2, 3, 4])\n",
    "\n",
    "# adds 1\n",
    "print(myVect + 1, '\\n') "
   ]
  },
  {
   "cell_type": "code",
   "execution_count": 95,
   "metadata": {},
   "outputs": [
    {
     "name": "stdout",
     "output_type": "stream",
     "text": [
      "[0 1 2 3] \n",
      "\n"
     ]
    }
   ],
   "source": [
    "# subtracts 1\n",
    "print(myVect - 1, '\\n') "
   ]
  },
  {
   "cell_type": "code",
   "execution_count": 96,
   "metadata": {},
   "outputs": [
    {
     "name": "stdout",
     "output_type": "stream",
     "text": [
      "[ 2  4  8 16] \n",
      "\n"
     ]
    }
   ],
   "source": [
    "# 2nd power\n",
    "print(2 ** myVect, '\\n') "
   ]
  },
  {
   "cell_type": "code",
   "execution_count": 97,
   "metadata": {},
   "outputs": [
    {
     "name": "stdout",
     "output_type": "stream",
     "text": [
      "[False  True False  True] \n",
      "\n",
      "[ True False  True False] \n",
      "\n"
     ]
    }
   ],
   "source": [
    "# comparison operations\n",
    "a = np.array([1, 2, 3, 4])\n",
    "b = np.array([2, 2, 4, 4])\n",
    "\n",
    "print(a == b, '\\n')\n",
    "print(a < b, '\\n')"
   ]
  },
  {
   "cell_type": "code",
   "execution_count": 98,
   "metadata": {},
   "outputs": [
    {
     "name": "stdout",
     "output_type": "stream",
     "text": [
      "[ True  True  True False] \n",
      "\n",
      "[ True False False False] \n",
      "\n",
      "[False  True False  True] \n",
      "\n",
      "[False  True  True False] \n",
      "\n"
     ]
    }
   ],
   "source": [
    "# logical operations\n",
    "a = np.array([True, False, True, False])\n",
    "b = np.array([True, True, False, False])\n",
    "\n",
    "print(np.logical_or(a, b), '\\n')\n",
    "print(np.logical_and(a, b), '\\n')\n",
    "print(np.logical_not(a), '\\n')\n",
    "print(np.logical_xor(a, b), '\\n')"
   ]
  },
  {
   "cell_type": "code",
   "execution_count": 99,
   "metadata": {},
   "outputs": [
    {
     "name": "stdout",
     "output_type": "stream",
     "text": [
      "[ 1  4  9 16]\n"
     ]
    }
   ],
   "source": [
    "# PERFORMING VECTOR MULTIPLICATION\n",
    "\n",
    "myVect = np.array([1, 2, 3, 4])\n",
    "\n",
    "print(myVect * myVect)"
   ]
  },
  {
   "cell_type": "code",
   "execution_count": 100,
   "metadata": {},
   "outputs": [
    {
     "data": {
      "text/plain": [
       "30"
      ]
     },
     "execution_count": 100,
     "metadata": {},
     "output_type": "execute_result"
    }
   ],
   "source": [
    "# dot product\n",
    "myVect.dot(myVect)"
   ]
  },
  {
   "cell_type": "code",
   "execution_count": 101,
   "metadata": {},
   "outputs": [
    {
     "name": "stdout",
     "output_type": "stream",
     "text": [
      "[[ 0  1]\n",
      " [ 1 -1]]\n"
     ]
    }
   ],
   "source": [
    "# CREATING A MATRIX\n",
    "\n",
    "# UNDERSTANDING BASIC OPERATIONS\n",
    "\n",
    "# substraction\n",
    "A = np.array([[1, 1], [1, 0]])\n",
    "B = np.array([[1, 0], [0, 1]])\n",
    "\n",
    "C = A - B\n",
    "print(C)"
   ]
  },
  {
   "cell_type": "code",
   "execution_count": 102,
   "metadata": {},
   "outputs": [
    {
     "name": "stdout",
     "output_type": "stream",
     "text": [
      "[[ 0 -2]\n",
      " [-2  2]]\n"
     ]
    }
   ],
   "source": [
    "# multiply the resulting matrix\n",
    "print(C * -2)"
   ]
  },
  {
   "cell_type": "code",
   "execution_count": 103,
   "metadata": {},
   "outputs": [
    {
     "name": "stdout",
     "output_type": "stream",
     "text": [
      "[ 2 -2  3]\n"
     ]
    }
   ],
   "source": [
    "# performing matrix multiplication\n",
    "X = np.array([[4, 5], [2, 4], [3, 3]])\n",
    "b = [3, -2]\n",
    "print(X @ b)"
   ]
  },
  {
   "cell_type": "code",
   "execution_count": 104,
   "metadata": {},
   "outputs": [
    {
     "name": "stdout",
     "output_type": "stream",
     "text": [
      "2\n",
      "-2\n",
      "3\n"
     ]
    }
   ],
   "source": [
    "# explication\n",
    "print(sum([4*3, 5*-2]))\n",
    "print(sum([2*3, 4*-2]))\n",
    "print(sum([3*3, 3*-2]))"
   ]
  },
  {
   "cell_type": "code",
   "execution_count": 105,
   "metadata": {},
   "outputs": [
    {
     "name": "stdout",
     "output_type": "stream",
     "text": [
      "[ 2 -2  3]\n"
     ]
    }
   ],
   "source": [
    "# y = Xb\n",
    "B = np.array([[3, -2], [-2, 5]])\n",
    "print(X @ b) "
   ]
  },
  {
   "cell_type": "code",
   "execution_count": 106,
   "metadata": {},
   "outputs": [
    {
     "name": "stdout",
     "output_type": "stream",
     "text": [
      "[[ 1  2  7]\n",
      " [ 2  3 11]\n",
      " [ 3  5 13]]\n"
     ]
    }
   ],
   "source": [
    "# GLACING AT ADVANCED MATRIX OPERATIONS\n",
    "\n",
    "# transposition\n",
    "A = np.array([[1, 2, 3], [2, 3, 5], [7, 11, 13]])\n",
    "print(A.transpose())"
   ]
  },
  {
   "cell_type": "code",
   "execution_count": 107,
   "metadata": {},
   "outputs": [
    {
     "name": "stdout",
     "output_type": "stream",
     "text": [
      "[[-3.2  1.4  0.2]\n",
      " [ 1.8 -1.6  0.2]\n",
      " [ 0.2  0.6 -0.2]]\n"
     ]
    }
   ],
   "source": [
    "# inverse of matrix A\n",
    "print(np.linalg.inv(A))"
   ]
  },
  {
   "cell_type": "code",
   "execution_count": 108,
   "metadata": {},
   "outputs": [
    {
     "name": "stdout",
     "output_type": "stream",
     "text": [
      "[44 21 37]\n",
      "(3,)\n"
     ]
    }
   ],
   "source": [
    "# USING VECTORIZATION EFFECTIVELY\n",
    "\n",
    "# create ndarray arrays of multiple dimensions\n",
    "y = np.array([44, 21, 37])\n",
    "print(y)\n",
    "# shape of the matrix\n",
    "print(y.shape)"
   ]
  },
  {
   "cell_type": "code",
   "execution_count": 109,
   "metadata": {},
   "outputs": [
    {
     "name": "stdout",
     "output_type": "stream",
     "text": [
      "[[  1.1   1.  545.    1. ]\n",
      " [  4.6   0.  345.    2. ]\n",
      " [  7.2   1.  754.    3. ]]\n"
     ]
    }
   ],
   "source": [
    "# create matrices made of rows and columns by using list of lists\n",
    "X = np.array([[1.1, 1, 545, 1], [4.6, 0, 345, 2], [7.2, 1, 754, 3]])\n",
    "print(X)"
   ]
  },
  {
   "cell_type": "code",
   "execution_count": 110,
   "metadata": {},
   "outputs": [
    {
     "name": "stdout",
     "output_type": "stream",
     "text": [
      "[[  1.1   1.  545.    1. ]\n",
      " [  4.6   0.  345.    2. ]\n",
      " [  7.2   1.  754.    3. ]]\n"
     ]
    }
   ],
   "source": [
    "# reshape a single list matrix\n",
    "X = np.array([1.1, 1, 545, 1, 4.6, 0, 345, 2, 7.2, 1, 754, 3]).reshape(3, 4)\n",
    "print(X)"
   ]
  },
  {
   "cell_type": "markdown",
   "metadata": {},
   "source": [
    "<span style=\"font-size: 20px\"> Chapter 9: </span> <span style=\"font-size: 20px; color: skyblue\"> Validating Machine Learning </span>"
   ]
  },
  {
   "cell_type": "code",
   "execution_count": 123,
   "metadata": {},
   "outputs": [
    {
     "name": "stdout",
     "output_type": "stream",
     "text": [
      "Avg out-of-bootstrap:  36.8%\n"
     ]
    }
   ],
   "source": [
    "# LOOKING FOR ALTERNATIVES IN VALIDATION\n",
    "\n",
    "# bootstrapping\n",
    "n = 1000\n",
    "results = list()\n",
    "\n",
    "for j in range(10000):\n",
    "    chosen = np.random.randint(0, n, size = n)\n",
    "    results.append(len(np.unique(chosen)) / n)\n",
    "\n",
    "avg_oob = 1 - np.mean(results)\n",
    "print(f\"Avg out-of-bootstrap: {avg_oob * 100 : 0.3}%\")"
   ]
  }
 ],
 "metadata": {
  "kernelspec": {
   "display_name": "Python 3",
   "language": "python",
   "name": "python3"
  },
  "language_info": {
   "codemirror_mode": {
    "name": "ipython",
    "version": 3
   },
   "file_extension": ".py",
   "mimetype": "text/x-python",
   "name": "python",
   "nbconvert_exporter": "python",
   "pygments_lexer": "ipython3",
   "version": "3.10.13"
  }
 },
 "nbformat": 4,
 "nbformat_minor": 5
}
